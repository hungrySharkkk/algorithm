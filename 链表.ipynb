{
 "cells": [
  {
   "cell_type": "markdown",
   "id": "784b608d",
   "metadata": {},
   "source": [
    "### [反转链表](https://leetcode-cn.com/problems/reverse-linked-list/)"
   ]
  },
  {
   "cell_type": "code",
   "execution_count": null,
   "id": "d02f5b20",
   "metadata": {},
   "outputs": [],
   "source": [
    "class Solution:\n",
    "    def reverseList(self, head: ListNode) -> ListNode:\n",
    "        pre, p = None, head\n",
    "        while p:\n",
    "            nxt = p.next\n",
    "            p.next, pre, p = pre, p, nxt\n",
    "        return pre"
   ]
  },
  {
   "cell_type": "markdown",
   "id": "7ff06fa7",
   "metadata": {},
   "source": [
    "### [反转链表II](https://leetcode-cn.com/problems/reverse-linked-list-ii/)"
   ]
  },
  {
   "cell_type": "code",
   "execution_count": null,
   "id": "1efe6da4",
   "metadata": {},
   "outputs": [],
   "source": [
    "class Solution:\n",
    "    def reverseBetween(self, head: ListNode, left: int, right: int) -> ListNode:\n",
    "        # 反转一个链表，并返回新的头尾指针，新的尾指针已指向该段链表之后的第一个节点\n",
    "        def reverse(head, tail):\n",
    "            pre, p = tail.next, head\n",
    "            while pre != tail:\n",
    "                nxt = p.next\n",
    "                p.next, pre, p = pre, p, nxt\n",
    "            return tail, head\n",
    "\n",
    "\n",
    "        # 可能存在头指针更改的情况，即 left == 1\n",
    "        H = ListNode(0)\n",
    "        H.next = head\n",
    "        # 找到要反转的链表段的头尾指针\n",
    "        pre = H\n",
    "        for _ in range(left-1):\n",
    "            pre, head = pre.next, head.next\n",
    "        tail = head\n",
    "        for _ in range(left, right):\n",
    "            tail = tail.next\n",
    "        # 反转链表，并接入原链表中\n",
    "        head, tail = reverse(head, tail)\n",
    "        pre.next = head\n",
    "        return H.next"
   ]
  },
  {
   "cell_type": "markdown",
   "id": "174eba1d",
   "metadata": {},
   "source": [
    "### [K个一组反转链表](https://leetcode-cn.com/problems/reverse-nodes-in-k-group/)"
   ]
  },
  {
   "cell_type": "code",
   "execution_count": null,
   "id": "a18fe31c",
   "metadata": {},
   "outputs": [],
   "source": [
    "class Solution:\n",
    "    def reverseKGroup(self, head: ListNode, k: int) -> ListNode:\n",
    "        # 反转一个链表， 并返回新的头尾指针，新的尾指针已指向该段链表之后的第一个节点\n",
    "        def reverse(head, tail):\n",
    "            pre, p = tail.next, head\n",
    "            while pre != tail:\n",
    "                nxt = p.next\n",
    "                p.next = pre\n",
    "                pre, p = p, nxt\n",
    "            return tail, head\n",
    "        \n",
    "        H = ListNode(0)\n",
    "        H.next = head\n",
    "        pre = H \n",
    "        while head:\n",
    "            tail = head\n",
    "            # 判断剩余链表长度是否不小于k\n",
    "            for _ in range(k-1):\n",
    "                if tail.next:\n",
    "                    tail = tail.next\n",
    "                else:\n",
    "                    return H.next\n",
    "            # 反转这一组链表，并接入到原链表中\n",
    "            head, tail = reverse(head, tail)\n",
    "            pre.next = head\n",
    "            pre, head = tail, tail.next\n",
    "        return H.next"
   ]
  }
 ],
 "metadata": {
  "kernelspec": {
   "display_name": "Python 3",
   "language": "python",
   "name": "python3"
  },
  "language_info": {
   "codemirror_mode": {
    "name": "ipython",
    "version": 3
   },
   "file_extension": ".py",
   "mimetype": "text/x-python",
   "name": "python",
   "nbconvert_exporter": "python",
   "pygments_lexer": "ipython3",
   "version": "3.6.13"
  }
 },
 "nbformat": 4,
 "nbformat_minor": 5
}
