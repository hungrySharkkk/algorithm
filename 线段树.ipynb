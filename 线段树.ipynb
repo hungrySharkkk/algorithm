{
 "cells": [
  {
   "cell_type": "code",
   "execution_count": null,
   "id": "b3fb98ce",
   "metadata": {},
   "outputs": [],
   "source": [
    "def build_tree(arr: list, tree: list, node: int, start: int, end: int):\n",
    "    if start == end:\n",
    "        tree[node] = arr[start]\n",
    "    else:\n",
    "        mid = (start + end) >> 1\n",
    "        left_node = node * 2 + 1\n",
    "        right_node = left_node + 1\n",
    "\n",
    "        build_tree(arr, tree, left_node, start, mid)\n",
    "        build_tree(arr, tree, right_node, mid + 1, end)\n",
    "        tree[node] = tree[left_node] + tree[right_node]\n",
    "def update(arr: list, tree: list, node: int, start: int, end: int, idx: int, val: int):\n",
    "    if start == end:\n",
    "        arr[idx] = val\n",
    "        tree[node] = val\n",
    "    else:\n",
    "        mid = (start + end) >> 1\n",
    "        left_node = node * 2 + 1\n",
    "        right_node = left_node + 1\n",
    "        if idx <= mid:\n",
    "            update(arr, tree, left_node, start, mid, idx, val)\n",
    "        else:\n",
    "            update(arr, tree, right_node, mid + 1, end, idx, val)\n",
    "        tree[node] = tree[left_node] + tree[right_node]\n",
    "def query_tree(arr: list, tree: list, node: int, start: int, end: int, l: int, r: int)->int:\n",
    "    if l > end or r < start:\n",
    "        return 0\n",
    "    elif start >= l and end <=r:\n",
    "        return tree[node]\n",
    "    else:\n",
    "        mid = (start + end) >> 1\n",
    "        left_node = node * 2 + 1\n",
    "        right_node = node * 2 + 2\n",
    "        sum_left = query_tree(arr, tree, left_node, start, mid, l, r)\n",
    "        sum_right = query_tree(arr, tree, right_node, mid + 1, end, l, r)\n",
    "        return sum_left + sum_right"
   ]
  }
 ],
 "metadata": {
  "kernelspec": {
   "display_name": "Python 3",
   "language": "python",
   "name": "python3"
  },
  "language_info": {
   "codemirror_mode": {
    "name": "ipython",
    "version": 3
   },
   "file_extension": ".py",
   "mimetype": "text/x-python",
   "name": "python",
   "nbconvert_exporter": "python",
   "pygments_lexer": "ipython3",
   "version": "3.8.8"
  }
 },
 "nbformat": 4,
 "nbformat_minor": 5
}
