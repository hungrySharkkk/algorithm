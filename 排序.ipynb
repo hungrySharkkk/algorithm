{
 "cells": [
  {
   "cell_type": "markdown",
   "metadata": {},
   "source": [
    "sort方法\n",
    "1. 参数reverse：是否倒序；\n",
    "2. 参数key：是一个函数，指定比较的元素；\n",
    "3. 参数cmp：是一个函数，指定两个元素的排序规则，cmp(x,y) 返回True时，交换 x, y 的位置，否则不交换。"
   ]
  },
  {
   "cell_type": "markdown",
   "metadata": {},
   "source": [
    "## <font color=red>交换排序</font>：冒泡排序、快排"
   ]
  },
  {
   "cell_type": "code",
   "execution_count": null,
   "metadata": {},
   "outputs": [],
   "source": [
    "def BsubbleSort(nums):\n",
    "    nums_len=len(nums)\n",
    "    for i in range(nums_len-1):\n",
    "        change=0\n",
    "        for j in range(nums_len-i-1):\n",
    "            if nums[j]>nums[j+1]:\n",
    "                nums[j], nums[j+1] = nums[j+1], nums[j]\n",
    "                change=1\n",
    "        if change==0:\n",
    "            breaks"
   ]
  },
  {
   "cell_type": "code",
   "execution_count": 1,
   "metadata": {},
   "outputs": [
    {
     "name": "stdout",
     "output_type": "stream",
     "text": [
      "[1, 2, 3, 4, 5, 6]\n"
     ]
    }
   ],
   "source": [
    "import random\n",
    "def partition(nums, left, right):\n",
    "        idx = random.randint(left, right)\n",
    "        nums[left], nums[idx] = nums[idx], nums[left]\n",
    "        pivot = left\n",
    "        while left < right:\n",
    "            while left < right and nums[right] >= nums[pivot]:right -= 1\n",
    "            while left < right and nums[left] <= nums[pivot]:left += 1\n",
    "            nums[left], nums[right] = nums[right], nums[left]\n",
    "        nums[left], nums[pivot] = nums[pivot], nums[left]\n",
    "        return left\n",
    "\n",
    "def quickSort(nums, left, right):\n",
    "    if left < right:\n",
    "        mid = partition(nums, left, right)\n",
    "        quickSort(nums, left, mid-1)\n",
    "        quickSort(nums, mid+1, right)\n",
    "\n",
    "nums = [4, 1, 2, 6, 3, 5]\n",
    "quickSort(nums, 0, len(nums)-1)\n",
    "print(nums)"
   ]
  },
  {
   "cell_type": "markdown",
   "metadata": {},
   "source": [
    "## <font color=red>插入排序</font>：直接插入排序、希尔排序"
   ]
  },
  {
   "cell_type": "code",
   "execution_count": 3,
   "metadata": {},
   "outputs": [],
   "source": [
    "def InsertionSort(nums: list):\n",
    "    nums_len = len(nums)\n",
    "    for i in range(1, nums_len):\n",
    "        for j in range(i, 0, -1):\n",
    "            if(nums[j] < nums[j-1]):\n",
    "                nums[j], nums[j-1] = nums[j-1], nums[j]\n",
    "            else:\n",
    "                break"
   ]
  },
  {
   "cell_type": "code",
   "execution_count": 8,
   "metadata": {},
   "outputs": [
    {
     "name": "stdout",
     "output_type": "stream",
     "text": [
      "[1, 2, 3, 3, 4, 6]\n"
     ]
    }
   ],
   "source": [
    "# 插入排序是希尔排序分组为一的特殊情况\n",
    "def ShellSort(nums: list):\n",
    "    nums_len = len(nums)\n",
    "    gap = nums_len // 2\n",
    "    while gap > 0:\n",
    "        for i in range(gap, nums_len):\n",
    "            for j in range(i, gap-1, -gap):\n",
    "                if nums[j] < nums[j-gap]:\n",
    "                    nums[j], nums[j-gap] = nums[j-gap], nums[j]\n",
    "                else:\n",
    "                    break\n",
    "        gap //= 2"
   ]
  },
  {
   "cell_type": "markdown",
   "metadata": {},
   "source": [
    "## <font color=red>选择排序</font>：简单选择排序、堆排序"
   ]
  },
  {
   "cell_type": "code",
   "execution_count": null,
   "metadata": {},
   "outputs": [],
   "source": [
    "def SelectSort(nums: list):\n",
    "    nums_len = len(nums)\n",
    "    for i in range(nums_len - 1):\n",
    "        max_index = 0s\n",
    "        for j in range(1, nums_len - i):\n",
    "            if nums[j] >= nums[max_index]:\n",
    "                max_index = j\n",
    "        if max_index != nums_len - i - 1:\n",
    "            nums[max_index], nums[nums_len - i - 1] = nums[nums_len - i - 1], nums[max_index]"
   ]
  },
  {
   "cell_type": "code",
   "execution_count": null,
   "metadata": {},
   "outputs": [],
   "source": [
    "def adjust(nums, idx, nums_len):\n",
    "    left, right = 2*idx+1, 2*idx+2\n",
    "    largest = idx\n",
    "    if left < nums_len and nums[largest] < nums[left]:\n",
    "        largest = left\n",
    "    if right < nums_len and nums[largest] < nums[right]:\n",
    "        largest = right\n",
    "    nums[idx], nums[largest] = nums[largest], nums[idx]\n",
    "    if largest != idx:\n",
    "        adjust(nums, largest, nums_len)\n",
    "\n",
    "def heapSort(nums):\n",
    "    nums_len = len(nums)\n",
    "    for idx in range(nums_len//2-1, -1, -1):\n",
    "        adjust(nums, idx, nums_len)\n",
    "    \n",
    "    for idx in range(nums_len-1, 0, -1):\n",
    "        nums[0], nums[idx] = nums[idx], nums[0]\n",
    "        adjust(nums, 0, idx)\n",
    "nums = [4, 1, 2, 6, 3, 5]\n",
    "heapSort(nums)\n",
    "print(nums)"
   ]
  },
  {
   "cell_type": "markdown",
   "metadata": {},
   "source": [
    "### leetcode 滑动窗口的最大值"
   ]
  },
  {
   "cell_type": "code",
   "execution_count": null,
   "metadata": {},
   "outputs": [],
   "source": [
    "class Solution {\n",
    "public:\n",
    "    static bool cmp(pair<int,int> &m,pair<int,int> &n){\n",
    "        return m.second<n.second;\n",
    "    }\n",
    "    vector<int> maxSlidingWindow(vector<int>& nums, int k) {\n",
    "        int n=nums.size();\n",
    "        vector<int> res;\n",
    "        priority_queue<pair<int,int>,vector<pair<int,int>>,decltype(&cmp)> q(cmp);\n",
    "        for(int i=0;i<k-1;++i){\n",
    "            q.emplace(i,nums[i]);\n",
    "        }\n",
    "        for(int j=k-1;j<n;++j){\n",
    "            q.emplace(j,nums[j]);\n",
    "            while(q.top().first<=j-k){\n",
    "                q.pop();\n",
    "            }\n",
    "            res.push_back(q.top().second);\n",
    "        }\n",
    "        return res;\n",
    "    }\n",
    "};"
   ]
  },
  {
   "cell_type": "markdown",
   "metadata": {},
   "source": [
    "## <font color=red>归并排序</font>"
   ]
  },
  {
   "cell_type": "code",
   "execution_count": 27,
   "metadata": {},
   "outputs": [
    {
     "name": "stdout",
     "output_type": "stream",
     "text": [
      "[3, 4]\n",
      "[2, 3, 4]\n",
      "[4]\n",
      "[2, 3, 4]\n",
      "[3, 7]\n",
      "[2]\n",
      "[2, 3, 4, 7]\n",
      "[2, 2, 3, 3, 4, 4, 4, 6]\n",
      "[2, 2, 3, 3, 4, 4, 4, 6, 7]\n"
     ]
    }
   ],
   "source": [
    "def merge(nums, left, mid, right):\n",
    "    tmp = []\n",
    "    i, j = left, mid\n",
    "    while i < mid and j < right:\n",
    "        if nums[i] > nums[j]:\n",
    "            tmp.append(nums[j])\n",
    "            j += 1\n",
    "        else:\n",
    "            tmp.append(nums[i])\n",
    "            i += 1\n",
    "    if i < mid:\n",
    "        tmp.extend(nums[i:mid])\n",
    "    nums[left:j] = tmp\n",
    "def mergeSort(nums, left, right):\n",
    "    if left < right-1:\n",
    "        mid = (left+right)>>1\n",
    "        mergeSort(nums, left, mid)\n",
    "        mergeSort(nums, mid, right)\n",
    "        merge(nums, left, mid, right)\n",
    "\n",
    "nums = [4, 1, 2, 6, 3, 5]\n",
    "mergeSort(nums, 0, len(nums))\n",
    "print(nums)"
   ]
  },
  {
   "cell_type": "markdown",
   "metadata": {},
   "source": [
    "### [leetcode](https://leetcode-cn.com/problems/sort-list/solution/)<font color=red>排序链表</font>"
   ]
  },
  {
   "cell_type": "code",
   "execution_count": null,
   "metadata": {},
   "outputs": [],
   "source": [
    "class Solution:\n",
    "    def sortList(self, head: ListNode) -> ListNode:\n",
    "        def merge(head1: ListNode, head2: ListNode) -> ListNode:\n",
    "            dummyHead = ListNode(0)\n",
    "            temp, temp1, temp2 = dummyHead, head1, head2\n",
    "            while temp1 and temp2:\n",
    "                if temp1.val <= temp2.val:\n",
    "                    temp.next = temp1\n",
    "                    temp1 = temp1.next\n",
    "                else:\n",
    "                    temp.next = temp2\n",
    "                    temp2 = temp2.next\n",
    "                temp = temp.next\n",
    "            if temp1:\n",
    "                temp.next = temp1\n",
    "            elif temp2:\n",
    "                temp.next = temp2\n",
    "            return dummyHead.next\n",
    "        \n",
    "        if not head:\n",
    "            return head\n",
    "        \n",
    "        # 得到链表长度\n",
    "        length, node = 0, head\n",
    "        while node:\n",
    "            length, node = length+1, node.next\n",
    "        \n",
    "        dummyHead = ListNode(0, head)\n",
    "        subLength = 1\n",
    "        while subLength < length:\n",
    "            prev, curr = dummyHead, dummyHead.next\n",
    "            while curr:\n",
    "                head1 = curr\n",
    "                for i in range(1, subLength):\n",
    "                    if curr.next:\n",
    "                        curr = curr.next\n",
    "                    else:\n",
    "                        break\n",
    "                head2 = curr.next\n",
    "                curr.next = None\n",
    "                curr = head2\n",
    "                for i in range(1, subLength):\n",
    "                    if curr and curr.next:\n",
    "                        curr = curr.next\n",
    "                    else:\n",
    "                        break\n",
    "                \n",
    "                succ = None\n",
    "                if curr:\n",
    "                    succ = curr.next\n",
    "                    curr.next = None\n",
    "                \n",
    "                merged = merge(head1, head2)\n",
    "                prev.next = merged\n",
    "                while prev.next:\n",
    "                    prev = prev.next\n",
    "                curr = succ\n",
    "            subLength <<= 1\n",
    "        \n",
    "        return dummyHead.next"
   ]
  },
  {
   "cell_type": "markdown",
   "metadata": {},
   "source": [
    "### [leetcode 最大数](https://leetcode-cn.com/problems/largest-number/solution/)"
   ]
  },
  {
   "cell_type": "code",
   "execution_count": null,
   "metadata": {},
   "outputs": [],
   "source": [
    "class LargerNumKey(str):\n",
    "    def __lt__(x, y):\n",
    "        return x+y > y+x\n",
    "        \n",
    "class Solution:\n",
    "    def largestNumber(self, nums):\n",
    "        largest_num = ''.join(sorted(map(str, nums), key=LargerNumKey))\n",
    "        return '0' if largest_num[0] == '0' else largest_num"
   ]
  },
  {
   "cell_type": "markdown",
   "metadata": {},
   "source": [
    "### [剑指offer 把数组排成最小数](https://www.nowcoder.com/practice/8fecd3f8ba334add803bf2a06af1b993?tpId=13&&tqId=11185&rp=1&ru=/ta/coding-interviews&qru=/ta/coding-interviews/question-ranking) [leetcode](https://leetcode-cn.com/problems/ba-shu-zu-pai-cheng-zui-xiao-de-shu-lcof/submissions/)"
   ]
  },
  {
   "cell_type": "code",
   "execution_count": null,
   "metadata": {},
   "outputs": [],
   "source": [
    "class SmallerKey(str):\n",
    "    def __lt__(x,y):\n",
    "        return x+y < y+x\n",
    "class Solution:\n",
    "    def minNumber(self, nums: List[int]) -> str:\n",
    "        return \"\".join(sorted(map(str,nums), key = SmallerKey))"
   ]
  },
  {
   "cell_type": "markdown",
   "metadata": {},
   "source": [
    "## <font color=red>桶排序、基数排序</font>"
   ]
  },
  {
   "cell_type": "code",
   "execution_count": 5,
   "metadata": {},
   "outputs": [
    {
     "name": "stdout",
     "output_type": "stream",
     "text": [
      "[5, 11, 21, 25, 31]\n"
     ]
    }
   ],
   "source": [
    "def BucketSort(nums, bucket_size):\n",
    "    mn, mx, ln = min(nums), max(nums), len(nums)\n",
    "    bucket_num = (mx - mn) // bucket_size + 1\n",
    "    buckets = [[] for _ in range(bucket_num)]\n",
    "    for num in nums:\n",
    "        buckets[(num - mn) // bucket_size].append(num)\n",
    "    nums.clear()\n",
    "    for bucket in buckets:\n",
    "        bucket.sort()\n",
    "        nums.extend(bucket)\n",
    "\n",
    "nums = [31, 21, 25, 11, 5]\n",
    "BucketSort(nums, 10)\n",
    "print(nums)"
   ]
  },
  {
   "cell_type": "markdown",
   "metadata": {},
   "source": [
    "### [leetcode 存在重复元素III](https://leetcode-cn.com/problems/contains-duplicate-iii/)"
   ]
  },
  {
   "cell_type": "code",
   "execution_count": null,
   "metadata": {},
   "outputs": [],
   "source": [
    "class Solution:\n",
    "    def containsNearbyAlmostDuplicate(self, nums: List[int], k: int, t: int) -> bool:\n",
    "        if k<0 or t<0 or not nums:\n",
    "            return False\n",
    "        buckets, numsLen, minNum = {}, len(nums), min(nums)\n",
    "        for i in range(numsLen):\n",
    "            bucketIndex = (nums[i] - minNum) // (t+1)\n",
    "            if bucketIndex in buckets:\n",
    "                return True \n",
    "            buckets[bucketIndex]=i\n",
    "            if bucketIndex-1 in buckets and (i - buckets[bucketIndex-1])<=k \\\n",
    "                and abs(nums[i] - nums[buckets[bucketIndex-1]])<=t:\n",
    "                return True\n",
    "            if bucketIndex+1 in buckets and (i - buckets[bucketIndex+1])<=k \\\n",
    "                and abs(nums[i] - nums[buckets[bucketIndex+1]])<=t:\n",
    "                return True\n",
    "            if i>=k:\n",
    "                buckets.pop((nums[i-k]-minNum)//(t+1))\n",
    "        return False"
   ]
  },
  {
   "cell_type": "markdown",
   "metadata": {},
   "source": [
    "### [leetcode 摆动排序II](https://leetcode-cn.com/problems/wiggle-sort-ii/)"
   ]
  },
  {
   "cell_type": "code",
   "execution_count": null,
   "metadata": {},
   "outputs": [],
   "source": [
    "class Solution:\n",
    "    def wiggleSort(self, nums: List[int]) -> None:\n",
    "        \"\"\"\n",
    "        Do not return anything, modify nums in-place instead.\n",
    "        \"\"\"\n",
    "        nums.sort()\n",
    "        numsLen = len(nums)\n",
    "        left = nums[:numsLen//2+1] if numsLen&1 else nums[:numsLen//2]\n",
    "        right = nums[-numsLen:]\n",
    "        left.reverse()\n",
    "        right.reverse()\n",
    "        nums.clear()\n",
    "        for i in range(numsLen//2):\n",
    "            nums.append(left[i])\n",
    "            nums.append(right[i])\n",
    "        if numsLen&1:\n",
    "            nums.append(left[-1])"
   ]
  }
 ],
 "metadata": {
  "kernelspec": {
   "display_name": "Python 3",
   "language": "python",
   "name": "python3"
  },
  "language_info": {
   "codemirror_mode": {
    "name": "ipython",
    "version": 3
   },
   "file_extension": ".py",
   "mimetype": "text/x-python",
   "name": "python",
   "nbconvert_exporter": "python",
   "pygments_lexer": "ipython3",
   "version": "3.6.13"
  },
  "toc": {
   "base_numbering": 1,
   "nav_menu": {},
   "number_sections": true,
   "sideBar": true,
   "skip_h1_title": false,
   "title_cell": "Table of Contents",
   "title_sidebar": "Contents",
   "toc_cell": false,
   "toc_position": {},
   "toc_section_display": true,
   "toc_window_display": false
  },
  "varInspector": {
   "cols": {
    "lenName": 16,
    "lenType": 16,
    "lenVar": 40
   },
   "kernels_config": {
    "python": {
     "delete_cmd_postfix": "",
     "delete_cmd_prefix": "del ",
     "library": "var_list.py",
     "varRefreshCmd": "print(var_dic_list())"
    },
    "r": {
     "delete_cmd_postfix": ") ",
     "delete_cmd_prefix": "rm(",
     "library": "var_list.r",
     "varRefreshCmd": "cat(var_dic_list()) "
    }
   },
   "types_to_exclude": [
    "module",
    "function",
    "builtin_function_or_method",
    "instance",
    "_Feature"
   ],
   "window_display": false
  }
 },
 "nbformat": 4,
 "nbformat_minor": 4
}
