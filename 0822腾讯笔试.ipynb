{
 "cells": [
  {
   "cell_type": "markdown",
   "id": "29e1d00d",
   "metadata": {},
   "source": [
    "### 题目一 开锁时间期望"
   ]
  },
  {
   "cell_type": "code",
   "execution_count": null,
   "id": "7bbb9405",
   "metadata": {},
   "outputs": [],
   "source": [
    "import sys\n",
    "\n",
    "n, m = sys.stdin.readline().strip().split(\" \")\n",
    "n, m = int(n), int(m)\n",
    "\n",
    "time = []\n",
    "for _ in range(n):\n",
    "    line = sys.stdin.readline().strip().split(\" \")\n",
    "    line = list(map(int, line))\n",
    "    time.append(line)\n",
    "tmp = []\n",
    "for i in range(m):\n",
    "    line = []\n",
    "    for j in range(n):\n",
    "        line.append(time[j][i])\n",
    "    line.sort()\n",
    "    tmp.append(line)\n",
    "res = 0\n",
    "for i in range(m):\n",
    "    sm = 0\n",
    "    for j in range(n):\n",
    "        sm += tmp[i][j]\n",
    "        res += 1/n * sm\n",
    "print(res)"
   ]
  },
  {
   "cell_type": "markdown",
   "id": "02e30e8f",
   "metadata": {},
   "source": [
    "### 题目二 大涨期望概率"
   ]
  },
  {
   "cell_type": "code",
   "execution_count": null,
   "id": "8a633aa5",
   "metadata": {},
   "outputs": [],
   "source": [
    "import sys\n",
    "T = int(sys.stdin.readline().strip())\n",
    "for _ in range(T):\n",
    "    t = int(sys.stdin.readline().strip())\n",
    "    p = []\n",
    "    sta = sys.stdin.readline().strip().split(\" \")\n",
    "    sta = list(map(float, sta))\n",
    "    for _ in range(3):\n",
    "        line = sys.stdin.readline().strip().split(\" \")\n",
    "        line = list(map(float, line))\n",
    "        p.append(line)\n",
    "    for _ in range(t):\n",
    "        p0 = sta[0] * p[0][0] + sta[1] * p[0][1] + sta[2] * p[0][2]\n",
    "        p1 = sta[0] * p[1][0] + sta[1] * p[1][1] + sta[2] * p[1][2]\n",
    "        p2 = sta[0] * p[2][0] + sta[1] * p[2][1] + sta[2] * p[2][2]\n",
    "        sta[0], sta[1], sta[2] = p0, p1, p2\n",
    "    print(1) if sta[2]>0.5 else print(0)"
   ]
  },
  {
   "cell_type": "markdown",
   "id": "602781c7",
   "metadata": {},
   "source": [
    "### 题目三 最长车队"
   ]
  },
  {
   "cell_type": "code",
   "execution_count": null,
   "id": "78b54eaf",
   "metadata": {},
   "outputs": [],
   "source": [
    "import sys\n",
    "\n",
    "n = int(sys.stdin.readline().strip())\n",
    "speed = sys.stdin.readline().strip().split(\" \")\n",
    "speed = list(map(int, speed))\n",
    "speed.sort()\n",
    "\n",
    "res = 1\n",
    "idx = 0\n",
    "while idx < n - 1:\n",
    "    l, r = idx+1, n-1\n",
    "    while l < r:\n",
    "        mid = (l+r) >> 1\n",
    "        if speed[mid] <= speed[idx]+10: l = mid + 1\n",
    "        else: r = mid - 1\n",
    "    res = max(res, r-idx+1)\n",
    "    idx += 1\n",
    "print(res)"
   ]
  },
  {
   "cell_type": "markdown",
   "id": "2c1faddf",
   "metadata": {},
   "source": [
    "### 题目四 水池等于max的个数"
   ]
  },
  {
   "cell_type": "code",
   "execution_count": null,
   "id": "1f9ddb20",
   "metadata": {},
   "outputs": [],
   "source": [
    "import sys\n",
    "\n",
    "n, t = sys.stdin.readline().strip().split(\" \")\n",
    "n, t = int(n), int(t)\n",
    "dp = [[0 for _ in range(n)] for _ in range(n)]\n",
    "\n",
    "for _ in range(t):\n",
    "    dp[0][0] += 1.0\n",
    "    for i in range(n-1):\n",
    "        for j in range(i+1):\n",
    "            if dp[i][j] > 1:\n",
    "                cnt = dp[i][j] - 1\n",
    "                dp[i][j] = 1\n",
    "                dp[i+1][j] += cnt*0.5\n",
    "                dp[i+1][j+1] += cnt*0.5\n",
    "    for j in range(n):\n",
    "        dp[-1][j] = min(1.0, dp[-1][j])\n",
    "res = 0\n",
    "for i in range(n):\n",
    "    for j in range(n):\n",
    "        if dp[i][j] == 1.0:\n",
    "            res += 1\n",
    "print(res)"
   ]
  },
  {
   "cell_type": "markdown",
   "id": "596a0ab8",
   "metadata": {},
   "source": [
    "### 题目五 轰炸区域"
   ]
  },
  {
   "cell_type": "code",
   "execution_count": null,
   "id": "ec33d3bb",
   "metadata": {},
   "outputs": [],
   "source": [
    "import sys\n",
    "n = int(sys.stdin.readline().strip())\n",
    "\n",
    "matrix = []\n",
    "for _ in range(n):\n",
    "    line = sys.stdin.readline().strip().split(\" \")\n",
    "    matrix.append(line)\n",
    "\n",
    "def dfs(matrix, i, j):\n",
    "    if 0 <= i < n and 0 <= j < n and matrix[i][j] == \"0\":\n",
    "            matrix[i][j] = \"-1\"\n",
    "            dfs(matrix, i+1, j)\n",
    "            dfs(matrix, i, j+1)\n",
    "            dfs(matrix, i-1, j)\n",
    "            dfs(matrix, i, j-1)\n",
    "for i in range(0, n):\n",
    "    dfs(matrix, i, 0)\n",
    "    dfs(matrix, i, n-1)\n",
    "    dfs(matrix, 0, i)\n",
    "    dfs(matrix, n-1, i)\n",
    "for i in range(n):\n",
    "    for j in range(n):\n",
    "        if matrix[i][j] == \"-1\":\n",
    "            matrix[i][j] = \"0\"\n",
    "        elif matrix[i][j] == \"0\":\n",
    "            matrix[i][j] = \"2\"\n",
    "for i in range(n):\n",
    "    line = \" \".join(matrix[i])\n",
    "    print(line)"
   ]
  }
 ],
 "metadata": {
  "kernelspec": {
   "display_name": "Python 3",
   "language": "python",
   "name": "python3"
  },
  "language_info": {
   "codemirror_mode": {
    "name": "ipython",
    "version": 3
   },
   "file_extension": ".py",
   "mimetype": "text/x-python",
   "name": "python",
   "nbconvert_exporter": "python",
   "pygments_lexer": "ipython3",
   "version": "3.8.8"
  }
 },
 "nbformat": 4,
 "nbformat_minor": 5
}
