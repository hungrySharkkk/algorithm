{
 "cells": [
  {
   "cell_type": "markdown",
   "id": "1620e9d1",
   "metadata": {},
   "source": [
    "在 N 个数中抽样 m 个数，对于每个数，我们将它们分为两个阶段，随机放入抽样序列，随机从抽样序列中取出，一个数出现在抽样序列中，那么它既要被随机加入抽样序列，又要不被随机从抽样序列中取出\n",
    "\n",
    "随机放入抽样序列：\n",
    "- 对于前 m 个数，直接放入抽样序列，放入抽样序列的概率是1\n",
    "- 对与第 i>m 个数，在 1~i 中生成随机整数 rd，若rd<=m，则将随机序列中第 rd 个数替换成第 i 个数，这样第 i 个数加入抽样序列的概率就是 m/i\n",
    "\n",
    "\n",
    "随机移出抽样序列：\n",
    "- 对于前 m 个数，从第 m+1 个数开始，就有可能被移出抽样序列，在第 k 个数时没有被移出去的概率是 k-1/k，那么最终的没有被移出的概率为 m/(m+1) * (m+1)/(m+2) ... * (N-1)/N = m/N，所以前 m 个数出现在抽样序列中的概率为 1 * m/N = m/N\n",
    "- 对于第 i>m 个数，从第 i+1 个数开始，就有可能被移出抽样序列，在第 k 个数时没有被移出去的概率是 k-1/k，那么最终的没有被移出的概率为 i/(i+1) * (i+1)/(i+2) ... * (N-1)/N = i/N，所以第 i 个数出现在抽样序列中的概率为 m/i * i/N = m/N"
   ]
  }
 ],
 "metadata": {
  "kernelspec": {
   "display_name": "Python 3",
   "language": "python",
   "name": "python3"
  },
  "language_info": {
   "codemirror_mode": {
    "name": "ipython",
    "version": 3
   },
   "file_extension": ".py",
   "mimetype": "text/x-python",
   "name": "python",
   "nbconvert_exporter": "python",
   "pygments_lexer": "ipython3",
   "version": "3.6.13"
  }
 },
 "nbformat": 4,
 "nbformat_minor": 5
}
