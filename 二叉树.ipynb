{
 "cells": [
  {
   "cell_type": "markdown",
   "metadata": {},
   "source": [
    "### <font color=red>二叉树</font>\n",
    "### <font color=red>遍历（递归/非递归）</font>"
   ]
  },
  {
   "cell_type": "code",
   "execution_count": null,
   "metadata": {},
   "outputs": [],
   "source": [
    "# 前序遍历\n",
    "class Solution:\n",
    "    def preorderTraversal(self, root)->list:\n",
    "        return [root.val] + preorderTraversal(root.left) + preorderTraversal(root.right) if root else []\n",
    "\n",
    "class Solution:\n",
    "    def preorderTraversal(self, root)->list:\n",
    "        stack, res =[root], []\n",
    "        \n",
    "        while stack:\n",
    "            node = stack.pop()\n",
    "            if node:\n",
    "                res.append(node.val)\n",
    "                stack.append(node.right)\n",
    "                stack.append(node.left)\n",
    "        return res"
   ]
  },
  {
   "cell_type": "code",
   "execution_count": null,
   "metadata": {},
   "outputs": [],
   "source": [
    "# 中序遍历\n",
    "class Solution:\n",
    "    def inorderTraversal(self, root)->list:\n",
    "        return preorderTraversal(root.left) + [root.val] + preorderTraversal(root.right) if root else []\n",
    "\n",
    "class Solution:\n",
    "    def inorderTraversal(self, root)->list:\n",
    "        stack, res=[], []\n",
    "        while stack or root:\n",
    "            while root:\n",
    "                stack.append(root)\n",
    "                root=root.left\n",
    "            root=stack.pop()\n",
    "            res.append(root.val)\n",
    "            root=root.right\n",
    "        return res"
   ]
  },
  {
   "cell_type": "code",
   "execution_count": null,
   "metadata": {},
   "outputs": [],
   "source": [
    "# 后序遍历（前序遍历的镜像）\n",
    "class Solution:\n",
    "    def postorderTraversal(self, root)->list:\n",
    "        return preorderTraversal(root.left) + preorderTraversal(root.right) + [root.val] if root else []\n",
    "\n",
    "class Solution:\n",
    "    def postorderTraversal(self, root)->list:\n",
    "        stack, res=[root], []\n",
    "        while stack:\n",
    "            node=stack.pop()\n",
    "            if node:\n",
    "                res.append(node.val)\n",
    "                stack.append(node.left)\n",
    "                stack.append(node.right)\n",
    "        return res[::-1]"
   ]
  },
  {
   "cell_type": "markdown",
   "metadata": {},
   "source": [
    "### [剑指offer 从上往下打印二叉树](https://www.nowcoder.com/practice/7fe2212963db4790b57431d9ed259701?tpId=13&&tqId=11175&rp=1&ru=/ta/coding-interviews&qru=/ta/coding-interviews/question-ranking) [leetcode](https://leetcode-cn.com/problems/cong-shang-dao-xia-da-yin-er-cha-shu-lcof/)"
   ]
  },
  {
   "cell_type": "code",
   "execution_count": 2,
   "metadata": {},
   "outputs": [],
   "source": [
    "# 层次遍历\n",
    "class Solution:\n",
    "    def levelOrderTraversal(self, root)->list:\n",
    "        if not root:\n",
    "            return []\n",
    "        queue, res = [root], []\n",
    "        while queue:\n",
    "            node = queue.pop(0)\n",
    "            res.append(node.val)\n",
    "            if node.left:\n",
    "                queue.append(node.left)\n",
    "            if node.right:\n",
    "                queue.append(node.right)\n",
    "        return res"
   ]
  },
  {
   "cell_type": "markdown",
   "metadata": {},
   "source": [
    "### [剑指offer 按层打印二叉树](https://www.nowcoder.com/practice/445c44d982d04483b04a54f298796288?tpId=13&&tqId=11213&rp=1&ru=/ta/coding-interviews&qru=/ta/coding-interviews/question-ranking)"
   ]
  },
  {
   "cell_type": "code",
   "execution_count": null,
   "metadata": {},
   "outputs": [],
   "source": [
    "class Solution:\n",
    "    def Print(self, root: TreeNode) -> list[list[int]]:\n",
    "        if not root:\n",
    "            return []\n",
    "        queue = [root]\n",
    "        res = []\n",
    "        while queue:\n",
    "            queue_len = len(queue)\n",
    "            layer = []\n",
    "            for _ in range(queue_len):\n",
    "                node = queue.pop(0)\n",
    "                layer.append(node.val)\n",
    "                if node.left:\n",
    "                    queue.append(node.left)\n",
    "                if node.right:\n",
    "                    queue.append(node.right)\n",
    "            res.append(layer)\n",
    "        return res"
   ]
  },
  {
   "cell_type": "markdown",
   "metadata": {},
   "source": [
    "### <font color=red>重建二叉树</font>"
   ]
  },
  {
   "cell_type": "code",
   "execution_count": null,
   "metadata": {},
   "outputs": [],
   "source": [
    "class Solution:# 递归\n",
    "    def reConstructBinaryTree(self, pre, tin):\n",
    "        if not pre:\n",
    "            return None\n",
    "        root_val = pre[0]\n",
    "        root = TreeNode(root_val)\n",
    "        index = 0\n",
    "        while tin[index]!= root_val:\n",
    "            index += 1\n",
    "        root.left = self.reConstructBinaryTree(pre[1:index+1], tin[:index])\n",
    "        root.right = self.reConstructBinaryTree(pre[index+1:], tin[index+1:])\n",
    "        return root"
   ]
  },
  {
   "cell_type": "markdown",
   "metadata": {},
   "source": [
    "### <font color=red>平衡二叉树和二叉搜索树</font>\n",
    "有序数组（二叉搜索树的中序遍历序列）可以通过二分法构造成一棵平衡的二叉搜索树<br>\n",
    "了解概念，题简单看一下就行，基本上考不到。"
   ]
  }
 ],
 "metadata": {
  "kernelspec": {
   "display_name": "Python 3",
   "language": "python",
   "name": "python3"
  },
  "language_info": {
   "codemirror_mode": {
    "name": "ipython",
    "version": 3
   },
   "file_extension": ".py",
   "mimetype": "text/x-python",
   "name": "python",
   "nbconvert_exporter": "python",
   "pygments_lexer": "ipython3",
   "version": "3.8.5"
  },
  "toc": {
   "base_numbering": 1,
   "nav_menu": {},
   "number_sections": true,
   "sideBar": true,
   "skip_h1_title": false,
   "title_cell": "Table of Contents",
   "title_sidebar": "Contents",
   "toc_cell": false,
   "toc_position": {},
   "toc_section_display": true,
   "toc_window_display": false
  },
  "varInspector": {
   "cols": {
    "lenName": 16,
    "lenType": 16,
    "lenVar": 40
   },
   "kernels_config": {
    "python": {
     "delete_cmd_postfix": "",
     "delete_cmd_prefix": "del ",
     "library": "var_list.py",
     "varRefreshCmd": "print(var_dic_list())"
    },
    "r": {
     "delete_cmd_postfix": ") ",
     "delete_cmd_prefix": "rm(",
     "library": "var_list.r",
     "varRefreshCmd": "cat(var_dic_list()) "
    }
   },
   "types_to_exclude": [
    "module",
    "function",
    "builtin_function_or_method",
    "instance",
    "_Feature"
   ],
   "window_display": false
  }
 },
 "nbformat": 4,
 "nbformat_minor": 4
}
