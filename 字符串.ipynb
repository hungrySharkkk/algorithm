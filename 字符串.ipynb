{
 "cells": [
  {
   "cell_type": "markdown",
   "id": "0795d9a8",
   "metadata": {},
   "source": [
    "### 无重复字符的最长子串"
   ]
  },
  {
   "cell_type": "code",
   "execution_count": null,
   "id": "299c8b17",
   "metadata": {},
   "outputs": [],
   "source": [
    "# 给定一个字符串，请你找出其中不含有重复字符的 最长子串的长度。\n",
    "class Solution:\n",
    "    def lengthOfLongestSubstring(self, s: str) -> int:\n",
    "        left, right = 0, 1\n",
    "        n = len(s)\n",
    "        res = 1\n",
    "        while right < n:\n",
    "            while s[right] in s[left:right]:\n",
    "                left += 1\n",
    "            right += 1\n",
    "            res = max(res, right-left)\n",
    "        return res if s else 0\n",
    "\n",
    "# 使用字典，减少冗余判断 s[right] in s[left:right]\n",
    "class Solution:\n",
    "    def lengthOfLongestSubstring(self, s: str) -> int:\n",
    "        left, n = -1, len(s)\n",
    "        dic = {}\n",
    "        res = 0\n",
    "        for right in range(n):\n",
    "            if s[right] in dic:\n",
    "                if dic[s[right]] > left:\n",
    "                    left = dic[s[right]]\n",
    "            dic[s[right]] = right\n",
    "            res = max(res, right-left)\n",
    "        return res"
   ]
  }
 ],
 "metadata": {
  "kernelspec": {
   "display_name": "Python 3",
   "language": "python",
   "name": "python3"
  }
 },
 "nbformat": 4,
 "nbformat_minor": 5
}
