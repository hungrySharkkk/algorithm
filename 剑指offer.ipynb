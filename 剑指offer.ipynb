{
 "cells": [
  {
   "cell_type": "markdown",
   "id": "12d206fd",
   "metadata": {},
   "source": [
    "### 1、二维数组中的查找（二分法的推广）"
   ]
  },
  {
   "cell_type": "code",
   "execution_count": null,
   "id": "6e06ad83",
   "metadata": {},
   "outputs": [],
   "source": [
    "# -*- coding:utf-8 -*-\n",
    "class Solution:\n",
    "    # array 二维列表\n",
    "    def Find(self, target, array):\n",
    "        # write code here\n",
    "        m, n = len(array), len(array[0])\n",
    "        i, j = 0, n - 1\n",
    "        while i < m and j >= 0:\n",
    "            if array[i][j] == target:\n",
    "                return True\n",
    "            elif array[i][j] > target:\n",
    "                j -= 1\n",
    "            else:\n",
    "                i += 1\n",
    "        return False"
   ]
  },
  {
   "cell_type": "markdown",
   "id": "56615f8b",
   "metadata": {},
   "source": [
    "### 2、替换空格"
   ]
  },
  {
   "cell_type": "code",
   "execution_count": null,
   "id": "1a7f5c8d",
   "metadata": {},
   "outputs": [],
   "source": [
    "class Solution:\n",
    "    def replaceSpace(self , s ):\n",
    "        # write code here\n",
    "        res = \"\"\n",
    "        for ch in s:\n",
    "            if ch == \" \":\n",
    "                res += \"%20\"\n",
    "            else:\n",
    "                res += ch\n",
    "        return res"
   ]
  },
  {
   "cell_type": "markdown",
   "id": "bcdcc8ae",
   "metadata": {},
   "source": [
    "### 3、从尾到头打印链表"
   ]
  },
  {
   "cell_type": "code",
   "execution_count": null,
   "id": "afab268f",
   "metadata": {},
   "outputs": [],
   "source": [
    "class Solution:\n",
    "    # 返回从尾部到头部的列表值序列，例如[1,2,3]\n",
    "    def printListFromTailToHead(self, listNode):\n",
    "        # write code here\n",
    "        node, res = listNode, []\n",
    "        while node:\n",
    "            res.insert(0, node.val)\n",
    "            node = node.next\n",
    "        return res\n",
    "    \n",
    "## 效率更高\n",
    "class Solution:\n",
    "    # 返回从尾部到头部的列表值序列，例如[1,2,3]\n",
    "    def printListFromTailToHead(self, listNode):\n",
    "        # write code here\n",
    "        node, res = listNode, []\n",
    "        while node:\n",
    "            res.append(node.val)\n",
    "            node = node.next\n",
    "        return res[::-1]"
   ]
  },
  {
   "cell_type": "markdown",
   "id": "79e38aa4",
   "metadata": {},
   "source": [
    "### 4、重建二叉树（递归）"
   ]
  },
  {
   "cell_type": "code",
   "execution_count": null,
   "id": "f031d4c6",
   "metadata": {},
   "outputs": [],
   "source": [
    "class Solution:\n",
    "    # 返回构造的TreeNode根节点\n",
    "    def reConstructBinaryTree(self, pre, tin):\n",
    "        # write code here\n",
    "        if not pre:\n",
    "            return None\n",
    "        root = ListNode(pre[0])\n",
    "        idx = 0\n",
    "        while tin[idx] != pre[0]:\n",
    "            idx += 1\n",
    "        root.left = self.reConstructBinaryTree(pre[1:idx+1], tin[:idx])\n",
    "        root.right = self.reConstructBinaryTree(pre[idx+1:], tin[idx+1:])\n",
    "        return root"
   ]
  },
  {
   "cell_type": "markdown",
   "id": "da635d66",
   "metadata": {},
   "source": [
    "### 5、用两个栈实现队列"
   ]
  },
  {
   "cell_type": "code",
   "execution_count": null,
   "id": "447627d7",
   "metadata": {},
   "outputs": [],
   "source": [
    "# -*- coding:utf-8 -*-\n",
    "class Solution:\n",
    "    def __init__(self):\n",
    "        self.stack1 = []\n",
    "        self.stack2 = []\n",
    "    def push(self, node):\n",
    "        # write code here\n",
    "        self.stack1.append(node)\n",
    "        \n",
    "    def pop(self):\n",
    "        # return xx\n",
    "        if not self.stack2:\n",
    "            self.stack2 = self.stack1[::-1]\n",
    "            self.stack1 = []\n",
    "        return self.stack2.pop()"
   ]
  },
  {
   "cell_type": "markdown",
   "id": "b4b9db20",
   "metadata": {},
   "source": [
    "### 6、旋转数组的最小数字（二分法的推广）注意特殊情况[3, 1, 3, 3]"
   ]
  },
  {
   "cell_type": "code",
   "execution_count": 1,
   "id": "0e32c67a",
   "metadata": {},
   "outputs": [],
   "source": [
    "# -*- coding:utf-8 -*-\n",
    "class Solution:\n",
    "    def minNumberInRotateArray(self, rotateArray):\n",
    "        # write code here\n",
    "        n = len(rotateArray)\n",
    "        res = pivot = rotateArray[0]\n",
    "        left, right = 1, n - 1\n",
    "        while left <= right:\n",
    "            mid = (left + right) >> 1\n",
    "            if rotateArray[mid] > pivot:\n",
    "                left = mid + 1\n",
    "            elif rotateArray[mid] < pivot:\n",
    "                right = mid - 1\n",
    "                res = min(res, rotateArray[mid])\n",
    "            else:# 为什么使用pop：[3,1,3,3]\n",
    "                rotateArray.pop(mid)\n",
    "                right -= 1\n",
    "        return res"
   ]
  },
  {
   "cell_type": "markdown",
   "id": "0110585e",
   "metadata": {},
   "source": [
    "### 7、斐波那契数列（动态规划）"
   ]
  },
  {
   "cell_type": "code",
   "execution_count": null,
   "id": "71b8a01a",
   "metadata": {},
   "outputs": [],
   "source": [
    "# -*- coding:utf-8 -*-\n",
    "class Solution:\n",
    "    def Fibonacci(self, n):\n",
    "        # write code here\n",
    "        if n < 2:\n",
    "            return n\n",
    "        p, q = 0, 1\n",
    "        while n > 1:\n",
    "            p, q = q, p + q\n",
    "            n -= 1\n",
    "        return q"
   ]
  },
  {
   "cell_type": "markdown",
   "id": "54d1e156",
   "metadata": {},
   "source": [
    "### 8、跳台阶（动态规划）"
   ]
  },
  {
   "cell_type": "code",
   "execution_count": null,
   "id": "83a8a094",
   "metadata": {},
   "outputs": [],
   "source": [
    "# -*- coding:utf-8 -*-\n",
    "class Solution:\n",
    "    def jumpFloor(self, number):\n",
    "        # write code here\n",
    "        if number < 3:\n",
    "            return number\n",
    "        p, q = 1, 2\n",
    "        while number > 2:\n",
    "            p, q = q, p + q \n",
    "            number -= 1\n",
    "        return q"
   ]
  },
  {
   "cell_type": "markdown",
   "id": "d1d90bd7",
   "metadata": {},
   "source": [
    "### 9、变态跳台阶（贪心、动规）"
   ]
  },
  {
   "cell_type": "code",
   "execution_count": null,
   "id": "89655495",
   "metadata": {},
   "outputs": [],
   "source": [
    "# -*- coding:utf-8 -*-\n",
    "class Solution:\n",
    "    def jumpFloorII(self, number):\n",
    "        # write code here\n",
    "        res = 1\n",
    "        while number > 1:\n",
    "            res *= 2\n",
    "            number -= 1\n",
    "        return res"
   ]
  },
  {
   "cell_type": "markdown",
   "id": "579545c4",
   "metadata": {},
   "source": [
    "### 10、矩形覆盖（动态规划）"
   ]
  },
  {
   "cell_type": "code",
   "execution_count": null,
   "id": "035c84f4",
   "metadata": {},
   "outputs": [],
   "source": [
    "# -*- coding:utf-8 -*-\n",
    "class Solution:\n",
    "    def rectCover(self, number):\n",
    "        # write code here\n",
    "        if number < 4:\n",
    "            return number\n",
    "        p, q = 2, 3\n",
    "        while number > 3:\n",
    "            p, q = q, p + q \n",
    "            number -= 1\n",
    "        return q"
   ]
  },
  {
   "cell_type": "markdown",
   "id": "7e384622",
   "metadata": {},
   "source": [
    "### 11、二进制中1的个数\n",
    "<font color = red size = 4>python 中负数以原码加负号存储，所以要和 0xffffffff 做与运算得到其补码对应的数</font>"
   ]
  },
  {
   "cell_type": "code",
   "execution_count": null,
   "id": "85c39686",
   "metadata": {},
   "outputs": [],
   "source": [
    "# -*- coding:utf-8 -*-\n",
    "class Solution:\n",
    "    def NumberOf1(self, n):\n",
    "        # write code here\n",
    "        res = 0\n",
    "        n = (n & 0xffffffff)\n",
    "        while n != 0:\n",
    "            n &= (n-1)\n",
    "            res += 1\n",
    "        return res"
   ]
  },
  {
   "cell_type": "markdown",
   "id": "4a634b20",
   "metadata": {},
   "source": [
    "### 12、数值的整数次方"
   ]
  },
  {
   "cell_type": "code",
   "execution_count": null,
   "id": "496e2da9",
   "metadata": {},
   "outputs": [],
   "source": [
    "# -*- coding:utf-8 -*-\n",
    "class Solution:\n",
    "    def Power(self, base, exponent):\n",
    "        # write code here\n",
    "        if exponent == 0:\n",
    "            return 1\n",
    "        if exponent < 0:\n",
    "            exponent = - exponent\n",
    "            base = 1/base\n",
    "        res = 1.0\n",
    "        for _ in range(exponent):\n",
    "            res *= base\n",
    "        return res"
   ]
  },
  {
   "cell_type": "markdown",
   "id": "d138789f",
   "metadata": {},
   "source": [
    "### 13、调整数组顺序使奇数位于偶数前面"
   ]
  },
  {
   "cell_type": "code",
   "execution_count": 1,
   "id": "f7aba8e7",
   "metadata": {},
   "outputs": [],
   "source": [
    "class Solution:\n",
    "    def reOrderArray(self , array ):\n",
    "        # write code here\n",
    "        res1, res2 = [], []\n",
    "        for num in array:\n",
    "            if num & 1:\n",
    "                res1.append(num)\n",
    "            else:\n",
    "                res2.append(num)\n",
    "        res1.extend(res2)\n",
    "        return res1"
   ]
  },
  {
   "cell_type": "markdown",
   "id": "a4a5874f",
   "metadata": {},
   "source": [
    "### 14、链表中倒数第k个结点"
   ]
  },
  {
   "cell_type": "code",
   "execution_count": 1,
   "id": "049cfc3e",
   "metadata": {},
   "outputs": [],
   "source": [
    "class Solution:\n",
    "    def FindKthToTail(self , pHead , k ):\n",
    "        # write code here\n",
    "        p = q = pHead\n",
    "        for _ in range(k):\n",
    "            if not q:\n",
    "                return None\n",
    "            q = q.next\n",
    "        while q:\n",
    "            p, q = p.next, q.next\n",
    "        return p"
   ]
  },
  {
   "cell_type": "markdown",
   "id": "1893a9c0",
   "metadata": {},
   "source": [
    "### 15、反转链表（必会题）"
   ]
  },
  {
   "cell_type": "code",
   "execution_count": null,
   "id": "c91fbeac",
   "metadata": {},
   "outputs": [],
   "source": [
    "class Solution:\n",
    "    # 返回ListNode\n",
    "    def ReverseList(self, pHead):\n",
    "        # write code here\n",
    "        if not pHead:\n",
    "            return None\n",
    "        p, q, pHead.next = pHead, pHead.next, None\n",
    "        while q:\n",
    "            r = q.next\n",
    "            q.next, p, q = p, q, r\n",
    "        return p"
   ]
  },
  {
   "cell_type": "markdown",
   "id": "371be83a",
   "metadata": {},
   "source": [
    "### 16、合并两个有序链表"
   ]
  },
  {
   "cell_type": "code",
   "execution_count": null,
   "id": "2c26ea50",
   "metadata": {},
   "outputs": [],
   "source": [
    "class Solution:\n",
    "    # 返回合并后列表\n",
    "    def Merge(self, pHead1, pHead2):\n",
    "        # write code here\n",
    "        head = ListNode(0)\n",
    "        p = head\n",
    "        while pHead1 and pHead2:\n",
    "            if pHead1.val < pHead2.val:\n",
    "                p.next, p, pHead1 = pHead1, pHead1, pHead1.next\n",
    "            else:\n",
    "                p.next, p, pHead2 = pHead2, pHead2, pHead2.next\n",
    "        if pHead1:\n",
    "            p.next = pHead1\n",
    "        if pHead2:\n",
    "            p.next = pHead2\n",
    "        return head.next"
   ]
  },
  {
   "cell_type": "markdown",
   "id": "c4b2266d",
   "metadata": {},
   "source": [
    "### 17、树的子结构"
   ]
  },
  {
   "cell_type": "code",
   "execution_count": 2,
   "id": "30de4ff4",
   "metadata": {},
   "outputs": [],
   "source": [
    "class Solution:\n",
    "    def HasSubtree(self, root1, root2):\n",
    "        # write code here\n",
    "        def judge(t1, t2):\n",
    "            if not t2:\n",
    "                return True\n",
    "            if not t1:\n",
    "                return False\n",
    "            return t1.val==t2.val and judge(t1.left, t2.left) and judge(t1.right, t2.right)\n",
    "        \n",
    "        if not root1 or not root2:\n",
    "            return False\n",
    "        return judge(root1, root2) or self.HasSubtree(root1.left, root2) or self.HasSubtree(root1.right, root2)"
   ]
  },
  {
   "cell_type": "markdown",
   "id": "58481ca6",
   "metadata": {},
   "source": [
    "### 18、二叉树的镜像"
   ]
  },
  {
   "cell_type": "code",
   "execution_count": null,
   "id": "25bd7158",
   "metadata": {},
   "outputs": [],
   "source": [
    "class Solution:\n",
    "    def Mirror(self , root ):\n",
    "        # write code here\n",
    "        stk = [root]\n",
    "        while stk:\n",
    "            node = stk.pop()\n",
    "            if node:\n",
    "                node.left, node.right = node.right, node.left\n",
    "                stk.append(node.left)\n",
    "                stk.append(node.right)\n",
    "        return root"
   ]
  },
  {
   "cell_type": "markdown",
   "id": "a182f721",
   "metadata": {},
   "source": [
    "### 19、顺时针打印矩阵"
   ]
  },
  {
   "cell_type": "code",
   "execution_count": 3,
   "id": "3348bded",
   "metadata": {},
   "outputs": [],
   "source": [
    "# -*- coding:utf-8 -*-\n",
    "class Solution:\n",
    "    # matrix类型为二维列表，需要返回列表\n",
    "    def printMatrix(self, matrix):\n",
    "        m, n = len(matrix), len(matrix[0])\n",
    "        res = []\n",
    "        left, right, low, high = 0, n-1, 0, m-1\n",
    "        while True:\n",
    "            if left > right:\n",
    "                break\n",
    "            for idx in range(left, right+1):\n",
    "                res.append(matrix[low][idx])\n",
    "            low += 1\n",
    "            if low > high:\n",
    "                break\n",
    "            for idx in range(low, high+1, 1):\n",
    "                res.append(matrix[idx][right])\n",
    "            right -= 1\n",
    "            if left > right:\n",
    "                break\n",
    "            for idx in range(right, left-1, -1):\n",
    "                res.append(matrix[high][idx])\n",
    "            high -= 1\n",
    "            if low > high:\n",
    "                break\n",
    "            for idx in range(high, low-1, -1):\n",
    "                res.append(matrix[idx][left])\n",
    "            left += 1\n",
    "        return res"
   ]
  },
  {
   "cell_type": "markdown",
   "id": "6c597b72",
   "metadata": {},
   "source": [
    "### 20、<font color=red>包含min函数的栈</font>"
   ]
  },
  {
   "cell_type": "code",
   "execution_count": 4,
   "id": "6b424a02",
   "metadata": {},
   "outputs": [],
   "source": [
    "# -*- coding:utf-8 -*-\n",
    "import sys\n",
    "class Solution:\n",
    "    def __init__(self):\n",
    "        self.stk = []\n",
    "        self.assist = [sys.maxsize]\n",
    "    def push(self, node):\n",
    "        # write code here\n",
    "        self.stk.append(node)\n",
    "        self.assist.append(min(self.assist[-1], node))\n",
    "        print(self.assist)\n",
    "    def pop(self):\n",
    "        # write code here\n",
    "        if self.stk:\n",
    "            self.assist.pop()\n",
    "            return self.stk.pop()\n",
    "    def top(self):\n",
    "        # write code here\n",
    "        return self.stk[-1]\n",
    "    def min(self):\n",
    "        # write code here\n",
    "        return self.assist[-1]"
   ]
  },
  {
   "cell_type": "markdown",
   "id": "1d13c5e5",
   "metadata": {},
   "source": [
    "### 21、栈的压入、弹出序列"
   ]
  },
  {
   "cell_type": "code",
   "execution_count": 9,
   "id": "3f87b779",
   "metadata": {},
   "outputs": [],
   "source": [
    "class Solution:\n",
    "    def IsPopOrder(self, push, pop):\n",
    "        # write code here\n",
    "        # 模拟法\n",
    "        stk = []\n",
    "        idx1, idx2, n = 0, 0, len(push)\n",
    "        while idx2 < n:\n",
    "            stk.append(push[idx1])\n",
    "            idx1 += 1\n",
    "            while stk and stk[-1] == pop[idx2]:\n",
    "                stk.pop()\n",
    "                idx2 += 1\n",
    "            if not idx1 < n:\n",
    "                break\n",
    "        return idx2 >= n"
   ]
  },
  {
   "cell_type": "markdown",
   "id": "da2e0bfa",
   "metadata": {},
   "source": [
    "### 22、从上往下打印二叉树"
   ]
  },
  {
   "cell_type": "code",
   "execution_count": null,
   "id": "401b6d37",
   "metadata": {},
   "outputs": [],
   "source": [
    "class Solution:\n",
    "    # 返回从上到下每个节点值列表，例：[1,2,3]\n",
    "    def PrintFromTopToBottom(self, root):\n",
    "        # write code here\n",
    "        que, res = [root], []\n",
    "        while que:\n",
    "            node = que.pop(0)\n",
    "            if node:\n",
    "                res.append(node.val)\n",
    "                que.append(node.left)\n",
    "                que.append(node.right)\n",
    "        return res"
   ]
  },
  {
   "cell_type": "markdown",
   "id": "d0084970",
   "metadata": {},
   "source": [
    "### 23、<font color=red>二叉搜索树的后续遍历序列</font>"
   ]
  },
  {
   "cell_type": "code",
   "execution_count": 20,
   "id": "41fd4ea8",
   "metadata": {},
   "outputs": [],
   "source": [
    "# -*- coding:utf-8 -*-\n",
    "class Solution:\n",
    "    def VerifySquenceOfBST(self, sequence):\n",
    "        # write code here\n",
    "        def judge(seq):\n",
    "            n = len(seq)\n",
    "            if n < 2:\n",
    "                return True\n",
    "            pivot, mid = seq[-1], 0\n",
    "            while mid < n-1:\n",
    "                if seq[mid] > pivot:\n",
    "                    break\n",
    "                mid += 1\n",
    "            for idx in range(mid, n-1):\n",
    "                if seq[idx] < pivot:\n",
    "                    return False\n",
    "            return judge(seq[:mid]) and judge(seq[mid:n-1])\n",
    "        if not sequence:\n",
    "            return False\n",
    "        return judge(sequence)"
   ]
  },
  {
   "cell_type": "markdown",
   "id": "4ef8712a",
   "metadata": {},
   "source": [
    "### 24、二叉树中和为某一值的路径"
   ]
  },
  {
   "cell_type": "code",
   "execution_count": null,
   "id": "66082bac",
   "metadata": {},
   "outputs": [],
   "source": [
    "import copy\n",
    "class Solution:\n",
    "    # 返回二维列表，内部每个列表表示找到的路径\n",
    "    def FindPath(self, root, expectNumber):\n",
    "        # write code here\n",
    "        res=[]\n",
    "        def dfs(node, n, path):\n",
    "            if node:\n",
    "                path.append(node.val)\n",
    "                if not node.left and not node.right and n == node.val:\n",
    "                    res.append(copy.deepcopy(path))\n",
    "                else:\n",
    "                    dfs(node.left, n-node.val, path)\n",
    "                    dfs(node.right, n-node.val, path)\n",
    "                path.pop()\n",
    "        dfs(root, expectNumber, [])\n",
    "        return res"
   ]
  },
  {
   "cell_type": "markdown",
   "id": "d40a4f87",
   "metadata": {},
   "source": [
    "### 25、<font color=red>复杂链表的复制</font>"
   ]
  },
  {
   "cell_type": "code",
   "execution_count": null,
   "id": "93722504",
   "metadata": {},
   "outputs": [],
   "source": [
    "class Solution:\n",
    "    # 返回 RandomListNode\n",
    "    def Clone(self, head):\n",
    "        # write code here\n",
    "        if not head:\n",
    "            return None\n",
    "        dic = {}\n",
    "        cur = head\n",
    "        while cur:\n",
    "            dic[cur] = RandomListNode(cur.label)\n",
    "            cur=cur.next\n",
    "        cur = head\n",
    "        while cur:\n",
    "            dic[cur].next = dic.get(cur.next)\n",
    "            dic[cur].random = dic.get(cur.random)\n",
    "            cur = cur.next\n",
    "        return dic.get(head)\n",
    "    \n",
    "class Solution:\n",
    "    # 返回 RandomListNode\n",
    "    def Clone(self, head):\n",
    "        # write code here\n",
    "        if not head:\n",
    "            return None\n",
    "        cur = head\n",
    "        while cur:\n",
    "            node = RandomListNode(cur.label)\n",
    "            node.next, cur.next = cur.next, node\n",
    "            cur = node.next\n",
    "        cur = head\n",
    "        while cur:\n",
    "            if cur.random:\n",
    "                cur.next.random = cur.random.next\n",
    "            cur = cur.next.next\n",
    "        cur, node, res = head, head.next, head.next\n",
    "        while node.next:\n",
    "            cur.next = node.next\n",
    "            cur = node.next\n",
    "            node.next = cur.next\n",
    "            node = cur.next\n",
    "        cur.next = None\n",
    "        return res"
   ]
  },
  {
   "cell_type": "markdown",
   "id": "d059ff93",
   "metadata": {},
   "source": [
    "### 26、二叉搜索树与双向链表"
   ]
  },
  {
   "cell_type": "code",
   "execution_count": null,
   "id": "8ef31d69",
   "metadata": {},
   "outputs": [],
   "source": [
    "class Solution:\n",
    "    def Convert(self, root):\n",
    "        # write code here\n",
    "        # 是一个中序遍历的序列——>使用非递归的中序遍历——>使用pre记录上一个遍历到的节点\n",
    "        # 如何处理头尾节点\n",
    "        if not root:\n",
    "            return None\n",
    "        stk, head, node, pre = [], root, root, None\n",
    "        while head.left:\n",
    "            head = head.left\n",
    "        while stk or node:\n",
    "            while node:\n",
    "                stk.append(node)\n",
    "                node = node.left\n",
    "            node = stk.pop()\n",
    "            if pre:\n",
    "                pre.right = node\n",
    "            node.left = pre\n",
    "            pre = node\n",
    "            node = node.right\n",
    "        return head"
   ]
  },
  {
   "cell_type": "markdown",
   "id": "6df6fc87",
   "metadata": {},
   "source": [
    "### 27、<font color=red>字符串的排列</font>"
   ]
  },
  {
   "cell_type": "code",
   "execution_count": 21,
   "id": "735f035b",
   "metadata": {},
   "outputs": [],
   "source": [
    "class Solution:\n",
    "    def Permutation(self, ss):\n",
    "        # write code here\n",
    "        c, res, n = list(ss), [], len(ss)\n",
    "        def dfs(idx):\n",
    "            if idx == n-1:\n",
    "                res.append(\"\".join(c))\n",
    "            dic = set()\n",
    "            for i in range(idx, n):\n",
    "                if c[i] in dic:\n",
    "                    continue \n",
    "                dic.add(c[i])\n",
    "                c[i], c[idx] = c[idx], c[i]\n",
    "                dfs(idx+1)\n",
    "                c[i], c[idx] = c[idx], c[i]\n",
    "        dfs(0)\n",
    "        return sorted(res)"
   ]
  },
  {
   "cell_type": "markdown",
   "id": "28e4f126",
   "metadata": {},
   "source": [
    "### 28、数组中出现次数超过一半的数字"
   ]
  },
  {
   "cell_type": "code",
   "execution_count": null,
   "id": "e838bb87",
   "metadata": {},
   "outputs": [],
   "source": [
    "class Solution:\n",
    "    def MoreThanHalfNum_Solution(self, numbers):\n",
    "        # write code here\n",
    "        cnt, res = 0, numbers[0]\n",
    "        for n in numbers:\n",
    "            if cnt == 0:\n",
    "                res, cnt = n, 1\n",
    "            else:\n",
    "                if n == res:\n",
    "                    cnt += 1\n",
    "                else:\n",
    "                    cnt -= 1\n",
    "        return res"
   ]
  },
  {
   "cell_type": "markdown",
   "id": "67d8e1c1",
   "metadata": {},
   "source": [
    "### 29、最小的k个数"
   ]
  },
  {
   "cell_type": "code",
   "execution_count": null,
   "id": "e1144d39",
   "metadata": {},
   "outputs": [],
   "source": [
    "import heapq\n",
    "class Solution:\n",
    "    def GetLeastNumbers_Solution(self, nums, k):\n",
    "        # write code here\n",
    "        if k > len(nums):return []\n",
    "        h, res = [], []\n",
    "        for num in nums:\n",
    "            heapq.heappush(h, num)\n",
    "        for _ in range(k):\n",
    "            res.append(heapq.heappop(h))\n",
    "        return res\n",
    "\n",
    "class Solution:\n",
    "    def GetLeastNumbers_Solution(self, nums, k):\n",
    "        # write code here\n",
    "        if k > len(nums):\n",
    "            return []\n",
    "        def partition(left, right):\n",
    "            pivot = nums[left]\n",
    "            while left < right:\n",
    "                while left < right and nums[right] > pivot:\n",
    "                    right -= 1\n",
    "                nums[left], nums[right] = nums[right], nums[left]\n",
    "                while left < right and nums[left] <= pivot:\n",
    "                    left += 1\n",
    "                nums[left], nums[right] = nums[right], nums[left]\n",
    "            nums[left] = pivot\n",
    "            return left\n",
    "        left, right = 0, len(nums)-1\n",
    "        def fastsort(left, right):\n",
    "            if left < right:\n",
    "                idx = partition(left, right)\n",
    "                fastsort(left, idx-1)\n",
    "                fastsort(idx+1, right)\n",
    "            \n",
    "        while left < right:\n",
    "            idx = partition(left, right)\n",
    "            if idx == k-1:\n",
    "                break\n",
    "            elif idx < k-1:\n",
    "                left = idx + 1\n",
    "            else:\n",
    "                right = idx - 1\n",
    "        fastsort(0, k-1)\n",
    "        return nums[:k]"
   ]
  },
  {
   "cell_type": "markdown",
   "id": "ffecf679",
   "metadata": {},
   "source": [
    "### 30、连续数组的最大和"
   ]
  },
  {
   "cell_type": "code",
   "execution_count": 1,
   "id": "80e4e3d9",
   "metadata": {},
   "outputs": [],
   "source": [
    "class Solution:\n",
    "    def FindGreatestSumOfSubArray(self, array):\n",
    "        # write code here\n",
    "        res, sm = array[0], 0\n",
    "        for num in array:\n",
    "            sm += num\n",
    "            res = max(res, sm)\n",
    "            sm = max(0, sm)\n",
    "        return res"
   ]
  },
  {
   "cell_type": "markdown",
   "id": "2c068771",
   "metadata": {},
   "source": [
    "### 31、整数中1出现的次数"
   ]
  },
  {
   "cell_type": "code",
   "execution_count": null,
   "id": "63913bba",
   "metadata": {},
   "outputs": [],
   "source": [
    "class Solution:\n",
    "    def NumberOf1Between1AndN_Solution(self, n):\n",
    "        # write code here\n",
    "        digit, res = 1, 0\n",
    "        high, cur, low = n//10, n%10, 0\n",
    "        while high or cur:\n",
    "            if cur == 0:res += high * digit\n",
    "            elif cur == 1:res += high * digit + low + 1\n",
    "            else:res += (high + 1) * digit\n",
    "            low += cur * digit\n",
    "            cur = high % 10\n",
    "            high //= 10\n",
    "            digit *= 10\n",
    "        return res"
   ]
  },
  {
   "cell_type": "markdown",
   "id": "60a04bbb",
   "metadata": {},
   "source": [
    "### 32、把数组排成最小的数"
   ]
  },
  {
   "cell_type": "code",
   "execution_count": null,
   "id": "9bff874d",
   "metadata": {},
   "outputs": [],
   "source": [
    "class smallerKey(str):\n",
    "    def __lt__(x, y):\n",
    "        return x+y < y+x\n",
    "class Solution:\n",
    "    def PrintMinNumber(self, numbers):\n",
    "        # write code here\n",
    "        return \"\".join(sorted(map(str, numbers), key=smallerKey))"
   ]
  },
  {
   "cell_type": "markdown",
   "id": "657bb851",
   "metadata": {},
   "source": [
    "### 33、丑数"
   ]
  },
  {
   "cell_type": "code",
   "execution_count": null,
   "id": "4b4dd446",
   "metadata": {},
   "outputs": [],
   "source": [
    "class Solution:\n",
    "    def GetUglyNumber_Solution(self, index):\n",
    "        # write code here\n",
    "        idx2 = idx3 = idx5 = 0\n",
    "        ugly = [1]\n",
    "        for _ in range(index-1):\n",
    "            ugly.append(min(ugly[idx2]*2, ugly[idx3]*3, ugly[idx5]*5))\n",
    "            if ugly[-1] == ugly[idx2]*2:\n",
    "                idx2 += 1\n",
    "            if ugly[-1] == ugly[idx3]*3:\n",
    "                idx3 += 1\n",
    "            if ugly[-1] == ugly[idx5]*5:\n",
    "                idx5 += 1\n",
    "        return ugly[-1] if index > 0 else 0"
   ]
  },
  {
   "cell_type": "markdown",
   "id": "d2df75fc",
   "metadata": {},
   "source": [
    "### 34、第一个只出现一次的字符位置"
   ]
  },
  {
   "cell_type": "code",
   "execution_count": 19,
   "id": "70f2d1d7",
   "metadata": {},
   "outputs": [],
   "source": [
    "class Solution:\n",
    "    def FirstNotRepeatingChar(self, s):\n",
    "        # write code here\n",
    "        dic = {}\n",
    "        for ch in s:\n",
    "            if ch in dic:\n",
    "                dic[ch] = -1\n",
    "            else:\n",
    "                dic[ch] = 1\n",
    "        for idx in range(len(s)):\n",
    "            if dic[s[idx]] == 1:\n",
    "                return idx\n",
    "        return -1"
   ]
  },
  {
   "cell_type": "markdown",
   "id": "58a3679f",
   "metadata": {},
   "source": [
    "### 35、数组中的逆序对"
   ]
  },
  {
   "cell_type": "code",
   "execution_count": null,
   "id": "15fb5f64",
   "metadata": {},
   "outputs": [],
   "source": [
    "import copy\n",
    "class Solution:\n",
    "    def InversePairs(self, data):\n",
    "        # write code here\n",
    "        res = 0\n",
    "        def merge(left, mid, right):\n",
    "            idx1, idx2 = left, mid+1\n",
    "            count = 0\n",
    "            l = copy.deepcopy(data[left:mid+1])\n",
    "            while idx1 < mid+1 and idx2 < right+1:\n",
    "                if l[idx1-left] <= data[idx2]:\n",
    "                    data[idx1+idx2-mid-1] = l[idx1-left]\n",
    "                    count += idx2-mid-1\n",
    "                    idx1 += 1\n",
    "                else:\n",
    "                    data[idx1+idx2-mid-1] = data[idx2]\n",
    "                    idx2 += 1\n",
    "            while idx1 < mid+1:\n",
    "                data[idx1+idx2-mid-1] = l[idx1-left]\n",
    "                count += idx2-mid-1\n",
    "                idx1 += 1\n",
    "            return count%1000000007\n",
    "        def mergesort(left, right):\n",
    "            count = 0\n",
    "            if left < right:\n",
    "                mid = (left + right) >> 1\n",
    "                count += mergesort(left, mid)\n",
    "                count += mergesort(mid+1, right)\n",
    "                count += merge(left, mid, right)\n",
    "            return count%1000000007\n",
    "        return mergesort(0, len(data)-1)"
   ]
  },
  {
   "cell_type": "markdown",
   "id": "6d04a76f",
   "metadata": {},
   "source": [
    "### 36、两个链表的第一个公共节点"
   ]
  },
  {
   "cell_type": "code",
   "execution_count": null,
   "id": "80f37109",
   "metadata": {},
   "outputs": [],
   "source": [
    "class Solution:\n",
    "    def FindFirstCommonNode(self, head1, head2):\n",
    "        # write code here\n",
    "        p, q = head1, head2\n",
    "        while p != q:\n",
    "            p = p.next if p else head2\n",
    "            q = q.next if q else head1\n",
    "        return p"
   ]
  },
  {
   "cell_type": "markdown",
   "id": "a2015354",
   "metadata": {},
   "source": [
    "### 37、数字在升序链表中出现的次数"
   ]
  },
  {
   "cell_type": "code",
   "execution_count": null,
   "id": "4d917fd4",
   "metadata": {},
   "outputs": [],
   "source": [
    "class Solution:\n",
    "    def GetNumberOfK(self, data, k):\n",
    "        # write code here\n",
    "        n = len(data)\n",
    "        left, right = 0, n\n",
    "        # 寻找下界\n",
    "        while left < right:\n",
    "            mid = (left + right) >> 1\n",
    "            if data[mid] < k:\n",
    "                left = mid + 1\n",
    "            else:\n",
    "                if mid == 0 or data[mid-1] < k:\n",
    "                    break\n",
    "                else:\n",
    "                    right = mid\n",
    "        low = mid if left < n else n\n",
    "        left, right = low, n\n",
    "        while left < right:\n",
    "            mid = (left + right) >> 1\n",
    "            if data[mid] <= k:\n",
    "                left = mid + 1\n",
    "            else:\n",
    "                if mid == 0 or data[mid-1] <= k:\n",
    "                    break\n",
    "                else:\n",
    "                    right = mid\n",
    "        high = mid if left < n else n\n",
    "        return high - low"
   ]
  },
  {
   "cell_type": "markdown",
   "id": "206b0563",
   "metadata": {},
   "source": [
    "### 38、二叉树的深度"
   ]
  },
  {
   "cell_type": "code",
   "execution_count": null,
   "id": "0f52526b",
   "metadata": {},
   "outputs": [],
   "source": [
    "class Solution:\n",
    "    def TreeDepth(self, root):\n",
    "        # write code here\n",
    "        return 0 if not root else max(self.TreeDepth(root.left), self.TreeDepth(root.right)) + 1"
   ]
  },
  {
   "cell_type": "markdown",
   "id": "dd8244ca",
   "metadata": {},
   "source": [
    "### 39、平衡二叉树"
   ]
  },
  {
   "cell_type": "code",
   "execution_count": null,
   "id": "cf895999",
   "metadata": {},
   "outputs": [],
   "source": [
    "class Solution:\n",
    "    def IsBalanced_Solution(self, root):\n",
    "        # write code here\n",
    "        def dfs(node):\n",
    "            if not node:\n",
    "                return 0\n",
    "            left = dfs(node.left)\n",
    "            right = dfs(node.right)\n",
    "            if left == -1 or right == -1:\n",
    "                return -1\n",
    "            return max(left, right)+1 if abs(left - right) <= 1 else -1\n",
    "        return dfs(root) != -1"
   ]
  },
  {
   "cell_type": "markdown",
   "id": "16e3439a",
   "metadata": {},
   "source": [
    "### 40、数组中只出现一次的两个数字"
   ]
  },
  {
   "cell_type": "code",
   "execution_count": 1,
   "id": "7758f178",
   "metadata": {},
   "outputs": [],
   "source": [
    "class Solution:\n",
    "    def FindNumsAppearOnce(self, array):\n",
    "        # write code here\n",
    "        sign = res1 = res2 = 0\n",
    "        for num in array:\n",
    "            sign ^= num\n",
    "        sign &= -sign\n",
    "        for num in array:\n",
    "            if num & sign:\n",
    "                res1 ^= num\n",
    "            else:\n",
    "                res2 ^= num\n",
    "        return [res1, res2] if res1 < res2 else [res2, res1]"
   ]
  },
  {
   "cell_type": "markdown",
   "id": "1551eecd",
   "metadata": {},
   "source": [
    "### 41、和为S的连续正数序列"
   ]
  },
  {
   "cell_type": "code",
   "execution_count": null,
   "id": "5b701a76",
   "metadata": {},
   "outputs": [],
   "source": [
    "class Solution:\n",
    "    def FindContinuousSequence(self, tsum):\n",
    "        # write code here\n",
    "        res = []\n",
    "        left, right, sm = 1, 2, 3\n",
    "        while left < right:\n",
    "            if sm == tsum:\n",
    "                res.append(range(left, right+1))\n",
    "            right += 1\n",
    "            sm += right \n",
    "            while sm > tsum:\n",
    "                sm -= left\n",
    "                left += 1\n",
    "        return res"
   ]
  },
  {
   "cell_type": "markdown",
   "id": "bb54508e",
   "metadata": {},
   "source": [
    "### 42、和为S的两个数字"
   ]
  },
  {
   "cell_type": "code",
   "execution_count": 2,
   "id": "fb550965",
   "metadata": {},
   "outputs": [],
   "source": [
    "class Solution:\n",
    "    def FindNumbersWithSum(self, array, tsum):\n",
    "        # write code here\n",
    "        res = []\n",
    "        left, right = 0, len(array) - 1\n",
    "        while left < right:\n",
    "            if array[left] + array[right] == tsum:\n",
    "                res = [array[left], array[right]]\n",
    "                break\n",
    "            elif array[left] + array[right] < tsum:\n",
    "                left += 1\n",
    "            else:\n",
    "                right -= 1\n",
    "        return res"
   ]
  },
  {
   "cell_type": "markdown",
   "id": "dda0e862",
   "metadata": {},
   "source": [
    "### 43、左旋转字符串"
   ]
  },
  {
   "cell_type": "code",
   "execution_count": null,
   "id": "0282ffd8",
   "metadata": {},
   "outputs": [],
   "source": [
    "# -*- coding:utf-8 -*-\n",
    "# 空间复杂度为1的解法\n",
    "class Solution:\n",
    "    def LeftRotateString(self, s, n):\n",
    "        # write code here\n",
    "        if not s:\n",
    "            return \"\"\n",
    "        s = list(s)\n",
    "        left, right = 0, n-1\n",
    "        while left < right:\n",
    "            s[left], s[right] = s[right], s[left]\n",
    "            left += 1\n",
    "            right -= 1\n",
    "        left, right = n, len(s)-1\n",
    "        while left < right:\n",
    "            s[left], s[right] = s[right], s[left]\n",
    "            left += 1\n",
    "            right -= 1\n",
    "        left, right = 0, len(s)-1\n",
    "        while left < right:\n",
    "            s[left], s[right] = s[right], s[left]\n",
    "            left += 1\n",
    "            right -= 1\n",
    "        return \"\".join(s)"
   ]
  },
  {
   "cell_type": "markdown",
   "id": "37f1b06b",
   "metadata": {},
   "source": [
    "### 44、翻转单词序列"
   ]
  },
  {
   "cell_type": "code",
   "execution_count": 3,
   "id": "7bd11565",
   "metadata": {},
   "outputs": [],
   "source": [
    "class Solution:\n",
    "    def ReverseSentence(self, s):\n",
    "        # write code here\n",
    "        return \" \".join(s.split(\" \")[::-1])"
   ]
  },
  {
   "cell_type": "markdown",
   "id": "41b81017",
   "metadata": {},
   "source": [
    "### 45、扑克牌顺子"
   ]
  },
  {
   "cell_type": "code",
   "execution_count": 4,
   "id": "c9e6ad36",
   "metadata": {},
   "outputs": [],
   "source": [
    "class Solution:\n",
    "    def IsContinuous(self, nums):\n",
    "        # write code here\n",
    "        nums.sort()\n",
    "        zero_cnt = 0\n",
    "        for idx in range(len(nums)-1):\n",
    "            if nums[idx] == 0:\n",
    "                zero_cnt += 1\n",
    "            elif nums[idx] == nums[idx+1]:\n",
    "                return False\n",
    "        return (nums[-1] - nums[zero_cnt]) < 5"
   ]
  },
  {
   "cell_type": "markdown",
   "id": "e1b35b39",
   "metadata": {},
   "source": [
    "### 46、孩子们的游戏"
   ]
  },
  {
   "cell_type": "code",
   "execution_count": 5,
   "id": "0c7d2379",
   "metadata": {},
   "outputs": [],
   "source": [
    "class Solution:\n",
    "    def LastRemaining_Solution(self, n, m):\n",
    "        # write code here\n",
    "        nums = range(n)\n",
    "        idx = 0\n",
    "        while n > 1:\n",
    "            idx = (idx + m - 1) % n\n",
    "            nums.pop(idx)\n",
    "            n -= 1\n",
    "        return nums[0] if n == 1 else -1"
   ]
  },
  {
   "cell_type": "markdown",
   "id": "2b42a15c",
   "metadata": {},
   "source": [
    "### 47、求1+2+3+...+n（睿智题）"
   ]
  },
  {
   "cell_type": "markdown",
   "id": "5b7a48d1",
   "metadata": {},
   "source": [
    "### 48、不用加减乘除做加法（python没有溢出，直接上C++）"
   ]
  },
  {
   "cell_type": "code",
   "execution_count": null,
   "id": "98fd026a",
   "metadata": {},
   "outputs": [],
   "source": [
    "class Solution {\n",
    "public:\n",
    "    int Add(int a, int b) {\n",
    "        while(b){\n",
    "            int c = (a & b) << 1;\n",
    "            a ^= b;\n",
    "            b = c;\n",
    "        }\n",
    "        return a;\n",
    "    }\n",
    "};"
   ]
  },
  {
   "cell_type": "markdown",
   "id": "a82771a4",
   "metadata": {},
   "source": [
    "### 49、把字符串转换成整数"
   ]
  },
  {
   "cell_type": "code",
   "execution_count": null,
   "id": "aaeb45c1",
   "metadata": {},
   "outputs": [],
   "source": [
    "class Solution:\n",
    "    def StrToInt(self, s):\n",
    "        # write code here\n",
    "        if not s:\n",
    "            return 0\n",
    "        res, sign = 0, 1\n",
    "        if s[0] == \"-\":\n",
    "            sign = -1\n",
    "            s = s[1:]\n",
    "        elif s[0] == \"+\":\n",
    "            s = s[1:]\n",
    "        if not s.isdigit():\n",
    "            return 0\n",
    "        for ch in s:\n",
    "            res = res * 10 + int(ch)\n",
    "        return sign * res\n",
    "\n",
    "\n",
    "class Solution:\n",
    "    def strToInt(self, s: str) -> int:\n",
    "        idx, n = 0, len(s)\n",
    "        while idx < n and s[idx] == \" \":\n",
    "            idx += 1\n",
    "        if idx == n:\n",
    "            return 0\n",
    "        sign, res = True, 0\n",
    "        if s[idx] == \"+\":\n",
    "            idx += 1\n",
    "        elif s[idx] == \"-\":\n",
    "            sign = False\n",
    "            idx += 1\n",
    "        while idx < n:\n",
    "            if not ord(\"0\") <= ord(s[idx]) <= ord(\"9\"):\n",
    "                break\n",
    "            res = res * 10 + ord(s[idx]) - ord(\"0\")\n",
    "            idx += 1\n",
    "        return min(res, 2**31-1) if sign else max(-res, -(2**31))"
   ]
  },
  {
   "cell_type": "markdown",
   "id": "3a27674e",
   "metadata": {},
   "source": [
    "### 50、数组中重复的数字"
   ]
  },
  {
   "cell_type": "code",
   "execution_count": 6,
   "id": "af715893",
   "metadata": {},
   "outputs": [],
   "source": [
    "class Solution:\n",
    "    def duplicate(self , nums ):\n",
    "        # write code here\n",
    "        array = [-1 for _ in range(len(nums))]\n",
    "        for num in nums:\n",
    "            if array[num] == num:\n",
    "                return num\n",
    "            else:\n",
    "                array[num] = num\n",
    "        return -1"
   ]
  },
  {
   "cell_type": "markdown",
   "id": "f2e9d90f",
   "metadata": {},
   "source": [
    "### 51、构建乘积数组"
   ]
  },
  {
   "cell_type": "code",
   "execution_count": 7,
   "id": "11cf0d66",
   "metadata": {},
   "outputs": [],
   "source": [
    "class Solution:\n",
    "    def multiply(self, A):\n",
    "        # write code here\n",
    "        n, tmp = len(A), 1\n",
    "        B, tmp = [1 for _ in range(n)], 1\n",
    "        for idx in range(1, n):\n",
    "            B[idx] = B[idx-1] * A[idx-1]\n",
    "        for idx in range(n-2, -1, -1):\n",
    "            tmp *= A[idx+1]\n",
    "            B[idx] *= tmp\n",
    "        return B"
   ]
  },
  {
   "cell_type": "markdown",
   "id": "3698cc66",
   "metadata": {},
   "source": [
    "### 52、正则表达式匹配"
   ]
  },
  {
   "cell_type": "code",
   "execution_count": 14,
   "id": "74238759",
   "metadata": {},
   "outputs": [],
   "source": [
    "class Solution:\n",
    "    def match(self , s, p):\n",
    "        # write code here\n",
    "        def ismatch(i, j):\n",
    "            if i == 0:\n",
    "                return False\n",
    "            if p[j-1] == '.':\n",
    "                return True\n",
    "            return s[i-1] == p[j-1]\n",
    "        m, n = len(s), len(p)\n",
    "        dp = [[0 for _ in range(n+1)] for _ in range(m+1)]\n",
    "        dp[0][0] = 1\n",
    "        for i in range(m+1):\n",
    "            for j in range(1, n+1):\n",
    "                if p[j-1] == '*':\n",
    "                    dp[i][j] |= dp[i][j-2]\n",
    "                    if ismatch(i, j-1):\n",
    "                        dp[i][j] |= dp[i-1][j]\n",
    "                elif ismatch(i, j):\n",
    "                    dp[i][j] |= dp[i-1][j-1]\n",
    "        return True if dp[-1][-1] else False\n",
    "\n",
    "class Solution:\n",
    "    def match(self , st , p):\n",
    "        # write code here\n",
    "        m, n = len(st), len(p)\n",
    "        dp = [[0 for _ in range(n+1)] for _ in range(m+1)]\n",
    "        dp[0][0] = 1\n",
    "        for i in range(m+1):\n",
    "            for j in range(1, n+1):\n",
    "                if p[j-1] == '*':\n",
    "                    dp[i][j] |= dp[i][j-2]\n",
    "                    if i > 0 and (p[j-2] == '.' or st[i-1] == p[j-2]):\n",
    "                        dp[i][j] |= dp[i-1][j]\n",
    "                if i > 0 and (p[j-1] == '.' or p[j-1] == st[i-1]):\n",
    "                    dp[i][j] = dp[i-1][j-1]\n",
    "        return True if dp[-1][-1] else False"
   ]
  },
  {
   "cell_type": "markdown",
   "id": "aa9828c1",
   "metadata": {},
   "source": [
    "### <font color=red>53、表示数值的字符串（自动机解法）</font>"
   ]
  },
  {
   "cell_type": "code",
   "execution_count": null,
   "id": "739583b3",
   "metadata": {},
   "outputs": [],
   "source": [
    "class Solution:\n",
    "    def isNumeric(self , s):\n",
    "        # write code here\n",
    "        try:\n",
    "            float(s) or int(s)\n",
    "        except:\n",
    "            return False\n",
    "        return True"
   ]
  },
  {
   "cell_type": "markdown",
   "id": "0bf850fa",
   "metadata": {},
   "source": [
    "### 54、字符流中第一个不重复的字符"
   ]
  },
  {
   "cell_type": "code",
   "execution_count": 15,
   "id": "4a994d30",
   "metadata": {},
   "outputs": [],
   "source": [
    "class Solution:\n",
    "    # 返回对应char\n",
    "    def __init__(self):\n",
    "        self.que = []\n",
    "        self.dic = set()\n",
    "    def FirstAppearingOnce(self):\n",
    "        # write code here\n",
    "        return self.que[0] if self.que else \"#\"\n",
    "    def Insert(self, char):\n",
    "        # write code here\n",
    "        if char not in self.dic:\n",
    "            self.que.append(char)\n",
    "        elif char in self.que:\n",
    "            self.que.remove(char)\n",
    "        self.dic.add(char)"
   ]
  },
  {
   "cell_type": "markdown",
   "id": "31100bbc",
   "metadata": {},
   "source": [
    "### 55、链表中环的入口"
   ]
  },
  {
   "cell_type": "code",
   "execution_count": 16,
   "id": "01793294",
   "metadata": {},
   "outputs": [],
   "source": [
    "class Solution:\n",
    "    def EntryNodeOfLoop(self, head):\n",
    "        # write code here\n",
    "        slow, fast = head, head\n",
    "        while fast and fast.next:\n",
    "            slow, fast = slow.next, fast.next.next\n",
    "            if slow == fast:\n",
    "                fast = head\n",
    "                while slow != fast:\n",
    "                    slow, fast = slow.next, fast.next\n",
    "                return slow\n",
    "        return None"
   ]
  },
  {
   "cell_type": "markdown",
   "id": "79ae6356",
   "metadata": {},
   "source": [
    "### 56、删除链表中重复的结点"
   ]
  },
  {
   "cell_type": "code",
   "execution_count": 17,
   "id": "9b49c4e8",
   "metadata": {},
   "outputs": [],
   "source": [
    "class Solution:\n",
    "    def deleteDuplication(self, head):\n",
    "        # write code here\n",
    "        h = ListNode(0)\n",
    "        h.next = head\n",
    "        pre = h\n",
    "        while pre and pre.next:\n",
    "            q = pre.next\n",
    "            if q.next and q.next.val == q.val:\n",
    "                q.next = q.next.next\n",
    "                while q.next and q.next.val == q.val:\n",
    "                    q.next = q.next.next\n",
    "                pre.next = q.next\n",
    "            else:\n",
    "                pre = pre.next\n",
    "        return h.next"
   ]
  },
  {
   "cell_type": "markdown",
   "id": "1f662fe2",
   "metadata": {},
   "source": [
    "### 57、二叉树的下一个结点"
   ]
  },
  {
   "cell_type": "code",
   "execution_count": 18,
   "id": "2dca344e",
   "metadata": {},
   "outputs": [],
   "source": [
    "class Solution:\n",
    "    def GetNext(self, node):\n",
    "        # write code here\n",
    "        if node.right:\n",
    "            node = node.right\n",
    "            while node.left:\n",
    "                node = node.left\n",
    "            return node\n",
    "        else:\n",
    "            while node.next and node.next.right == node:\n",
    "                node = node.next\n",
    "            return node.next"
   ]
  },
  {
   "cell_type": "markdown",
   "id": "c63b3041",
   "metadata": {},
   "source": [
    "### 58、对称的二叉树"
   ]
  },
  {
   "cell_type": "code",
   "execution_count": null,
   "id": "7fe06805",
   "metadata": {},
   "outputs": [],
   "source": [
    "class Solution:\n",
    "    def isSymmetrical(self, root):\n",
    "        # write code here\n",
    "        pre, post = [root], [root]\n",
    "        while pre:\n",
    "            node1 = pre.pop()\n",
    "            node2 = post.pop()\n",
    "            if not node1 and not node2:\n",
    "                continue\n",
    "            if not node1 or not node2 or node1.val != node2.val:\n",
    "                return False\n",
    "            pre.append(node1.right)\n",
    "            pre.append(node1.left)\n",
    "            post.append(node2.left)\n",
    "            post.append(node2.right)\n",
    "        return True"
   ]
  },
  {
   "cell_type": "markdown",
   "id": "c864ad88",
   "metadata": {},
   "source": [
    "### 59、按之字形顺序打印二叉树"
   ]
  },
  {
   "cell_type": "code",
   "execution_count": null,
   "id": "59c0c9fc",
   "metadata": {},
   "outputs": [],
   "source": [
    "class Solution:\n",
    "    def Print(self, root):\n",
    "        # write code here\n",
    "        if not root:\n",
    "            return []\n",
    "        deque, res, layer = [root], [], 0\n",
    "        while deque:\n",
    "            layer, layer_len, layer_res = layer+1, len(deque), []\n",
    "            if layer & 1:\n",
    "                for _ in range(layer_len):\n",
    "                    node = deque.pop(0)\n",
    "                    layer_res.append(node.val)\n",
    "                    if node.left:deque.append(node.left)\n",
    "                    if node.right:deque.append(node.right)\n",
    "            else:\n",
    "                for _ in range(layer_len):\n",
    "                    node = deque.pop()\n",
    "                    layer_res.append(node.val)\n",
    "                    if node.right:deque.insert(0,node.right)\n",
    "                    if node.left:deque.insert(0,node.left)\n",
    "            res.append(layer_res)\n",
    "        return res"
   ]
  },
  {
   "cell_type": "markdown",
   "id": "b9793b86",
   "metadata": {},
   "source": [
    "### 60、把二叉树打印成多行"
   ]
  },
  {
   "cell_type": "code",
   "execution_count": null,
   "id": "a6aa5bba",
   "metadata": {},
   "outputs": [],
   "source": [
    "class Solution:\n",
    "    # 返回二维列表[[1,2],[4,5]]\n",
    "    def Print(self, root):\n",
    "        # write code here\n",
    "        if not root:\n",
    "            return []\n",
    "        que, res = [root], []\n",
    "        while que:\n",
    "            layer, cnt = [], len(que)\n",
    "            for _ in range(cnt):\n",
    "                node = que.pop(0)\n",
    "                layer.append(node.val)\n",
    "                if node.left:que.append(node.left)\n",
    "                if node.right:que.append(node.right)\n",
    "            res.append(layer)\n",
    "        return res"
   ]
  },
  {
   "cell_type": "markdown",
   "id": "459852e0",
   "metadata": {},
   "source": [
    "### 61、序列化二叉树"
   ]
  },
  {
   "cell_type": "code",
   "execution_count": null,
   "id": "0ba6103e",
   "metadata": {},
   "outputs": [],
   "source": [
    "class Solution:\n",
    "    def Serialize(self, root):\n",
    "        # write code here\n",
    "        que, res = [root], []\n",
    "        while que:\n",
    "            node = que.pop(0)\n",
    "            if node:\n",
    "                res.append(str(node.val))\n",
    "                que.append(node.left)\n",
    "                que.append(node.right)\n",
    "            else:\n",
    "                res.append(\"#\")\n",
    "        return \" \".join(res)\n",
    "    def Deserialize(self, s):\n",
    "        # write code here\n",
    "        if s == \"#\":\n",
    "            return None\n",
    "        vals = s.split(\" \")\n",
    "        root = TreeNode(int(vals[0]))\n",
    "        que, n, idx = [root], len(vals), 1\n",
    "        while idx < n:\n",
    "            node = que.pop(0)\n",
    "            if vals[idx] != \"#\":\n",
    "                left = TreeNode(int(vals[idx]))\n",
    "                node.left = left\n",
    "                que.append(left)\n",
    "            idx += 1\n",
    "            if vals[idx] != \"#\":\n",
    "                right = TreeNode(int(vals[idx]))\n",
    "                node.right = right\n",
    "                que.append(right)\n",
    "            idx += 1\n",
    "        return root"
   ]
  },
  {
   "cell_type": "markdown",
   "id": "9c52c6ab",
   "metadata": {},
   "source": [
    "### 62、二叉搜索树的第k个结点"
   ]
  },
  {
   "cell_type": "code",
   "execution_count": null,
   "id": "3064145e",
   "metadata": {},
   "outputs": [],
   "source": [
    "class Solution:\n",
    "    # 返回对应节点TreeNode\n",
    "    def KthNode(self, root, k):\n",
    "        # write code here\n",
    "        stk, node = [], root\n",
    "        while stk or node:\n",
    "            while node:\n",
    "                stk.append(node)\n",
    "                node = node.left\n",
    "            node = stk.pop()\n",
    "            k -= 1\n",
    "            if k== 0:\n",
    "                return node\n",
    "            node = node.right\n",
    "        return None"
   ]
  },
  {
   "cell_type": "markdown",
   "id": "c27d1488",
   "metadata": {},
   "source": [
    "### 63、数据流中的中位数"
   ]
  },
  {
   "cell_type": "code",
   "execution_count": null,
   "id": "f7975707",
   "metadata": {},
   "outputs": [],
   "source": [
    "import heapq\n",
    "class Solution:\n",
    "    def __init__(self):\n",
    "        self.left = []\n",
    "        self.right = []\n",
    "    def Insert(self, num):\n",
    "        # write code here\n",
    "        heapq.heappush(self.right, num)\n",
    "        heapq.heappush(self.left, -heapq.heappop(self.right))\n",
    "        if len(self.right) < len(self.left):\n",
    "            heapq.heappush(self.right, -heapq.heappop(self.left))\n",
    "    def GetMedian(self):\n",
    "        # write code here\n",
    "        return self.right[0]/1.0 if len(self.right) > len(self.left) else (self.right[0] - self.left[0])/2.0"
   ]
  },
  {
   "cell_type": "markdown",
   "id": "37fbc454",
   "metadata": {},
   "source": [
    "### 64、滑动窗口的最大值"
   ]
  },
  {
   "cell_type": "code",
   "execution_count": null,
   "id": "0647f953",
   "metadata": {},
   "outputs": [],
   "source": [
    "class Solution:\n",
    "    def maxInWindows(self, num, size):\n",
    "        # write code here\n",
    "        n = len(num)\n",
    "        if n < size or size < 1:\n",
    "            return []\n",
    "        que, res = [], []\n",
    "        for idx in range(n):\n",
    "            while que and num[que[-1]] < num[idx]:\n",
    "                que.pop()\n",
    "            que.append(idx)\n",
    "            if que[0] <= idx - size:\n",
    "                que.pop(0)\n",
    "            if idx >= size-1:\n",
    "                res.append(num[que[0]])\n",
    "        return res"
   ]
  },
  {
   "cell_type": "markdown",
   "id": "433f3127",
   "metadata": {},
   "source": [
    "### 65、矩阵中的路径"
   ]
  },
  {
   "cell_type": "code",
   "execution_count": null,
   "id": "a635c75a",
   "metadata": {},
   "outputs": [],
   "source": [
    "class Solution:\n",
    "    def hasPath(self , matrix, word):\n",
    "        # write code here\n",
    "        m, n, l = len(matrix), len(matrix[0]), len(word)\n",
    "        def dfs(i, j, k):\n",
    "            if i<0 or j<0 or i>=m or j>=n or matrix[i][j] != word[k]:\n",
    "                return False\n",
    "            if k == l-1:\n",
    "                return True\n",
    "            matrix[i][j] = \"\"\n",
    "            res = dfs(i-1, j, k+1) | dfs(i, j-1, k+1) | dfs(i+1, j, k+1) | dfs(i, j+1, k+1)\n",
    "            matrix[i][j] = word[k]\n",
    "            return res \n",
    "        for i in range(m):\n",
    "            for j in range(n):\n",
    "                if dfs(i, j, 0):\n",
    "                    return True\n",
    "        return False"
   ]
  },
  {
   "cell_type": "markdown",
   "id": "52772fb5",
   "metadata": {},
   "source": [
    "### 66、机器人的运动范围"
   ]
  },
  {
   "cell_type": "code",
   "execution_count": null,
   "id": "ac1c5332",
   "metadata": {},
   "outputs": [],
   "source": [
    "class Solution:\n",
    "    def movingCount(self, threshold, rows, cols):\n",
    "        # write code here\n",
    "        sign = [[0 for _ in range(cols)] for _ in range(rows)]\n",
    "        def getsum(num):\n",
    "            res = 0\n",
    "            while num:\n",
    "                res += num%10\n",
    "                num //= 10\n",
    "            return res\n",
    "        def dfs(i, j):\n",
    "            if 0<=i<rows and 0<=j<cols and sign[i][j] == 0 and getsum(i) + getsum(j) <= threshold:\n",
    "                sign[i][j] = -1\n",
    "                return dfs(i-1, j) + dfs(i, j-1) + dfs(i+1, j) + dfs(i, j+1) + 1\n",
    "            return 0\n",
    "        return dfs(0, 0)"
   ]
  },
  {
   "cell_type": "markdown",
   "id": "dac2f056",
   "metadata": {},
   "source": [
    "### 67、剪绳子"
   ]
  },
  {
   "cell_type": "code",
   "execution_count": null,
   "id": "b4eb4526",
   "metadata": {},
   "outputs": [],
   "source": [
    "class Solution:\n",
    "    def cutRope(self, num):\n",
    "        # write code here\n",
    "        res = 1\n",
    "        if num < 4:\n",
    "            return num - 1\n",
    "        while num > 4:\n",
    "            res *= 3\n",
    "            num -= 3\n",
    "        return num * res"
   ]
  }
 ],
 "metadata": {
  "kernelspec": {
   "display_name": "Python 3",
   "language": "python",
   "name": "python3"
  },
  "language_info": {
   "codemirror_mode": {
    "name": "ipython",
    "version": 3
   },
   "file_extension": ".py",
   "mimetype": "text/x-python",
   "name": "python",
   "nbconvert_exporter": "python",
   "pygments_lexer": "ipython3",
   "version": "3.8.8"
  },
  "pycharm": {
   "stem_cell": {
    "cell_type": "raw",
    "source": [],
    "metadata": {
     "collapsed": false
    }
   }
  }
 },
 "nbformat": 4,
 "nbformat_minor": 5
}