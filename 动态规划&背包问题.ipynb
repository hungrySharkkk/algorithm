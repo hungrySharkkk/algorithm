{
 "cells": [
  {
   "cell_type": "markdown",
   "metadata": {},
   "source": [
    "## DP应用场景\n",
    "- 最值型动态规划，比如求最大，最小值是多少\n",
    "\n",
    "\n",
    "- 计数型动态规划，比如换硬币，有多少种换法\n",
    "\n",
    "\n",
    "- 坐标型动态规划，比如在m*n矩阵求最值型，计数型，一般是二维矩阵\n",
    "\n",
    "\n",
    "- 区间型a动态规划，比如在区间中求最值"
   ]
  },
  {
   "cell_type": "markdown",
   "metadata": {},
   "source": [
    "## 0-1背包\n",
    "有N件物品和一个容量为C的背包。第i件物品的费用是w[i]，价值是v[i]。求解将哪些物品装入背包可使价值总和最大。\n",
    "\n",
    "用dp[capcity]表示前k个物品在容量为capcity的情况下的最大总价值，dp[capcity]的值有两种可能：<br>\n",
    "- 不加入第k件物品，则dp[capcity]=dp[capcity]（前k-1个物品在背包容量为capcity的情况下的最大总价值）\n",
    "\n",
    "\n",
    "- 加入第k件物品（先要保证当前物品的重量小于背包的容量C)，则dp[capcity]=dp[capcity-weight]+value，注意，这里的dp[capcity-weight]表示的是前k-1件物品在背包容量为C-weight[k]的情况下的最大总价值，而不是前k件\n",
    "\n",
    "\n",
    "取两者较大值"
   ]
  },
  {
   "cell_type": "code",
   "execution_count": 4,
   "metadata": {},
   "outputs": [
    {
     "name": "stdout",
     "output_type": "stream",
     "text": [
      "114\n"
     ]
    }
   ],
   "source": [
    "def maxvalue(v, w, C):\n",
    "    dp = [0 for _ in range(C + 1)]\n",
    "    for value, weight in zip(v, w):\n",
    "        for idx in range(C, weight-1, -1):\n",
    "            dp[idx] = max(dp[idx], dp[idx - weight] + value)\n",
    "    return dp[-1]\n",
    "v = [12, 10, 20, 15, 14 ,13, 16, 11, 11, 12, 17, 19, 10]\n",
    "w = [2, 1, 3, 2, 4, 5, 3, 3, 2, 3, 1, 4, 2]\n",
    "print(maxvalue(v, w, 17))"
   ]
  },
  {
   "cell_type": "markdown",
   "metadata": {},
   "source": [
    "## 完全背包\n",
    "有N种物品和一个容量为C的背包，每种物品都有无限件可用。第i种物品的费用是v[i]，价格是w[i].求解将哪些物品装入背包可使这些物品的费用总和不超过背包容量，且价值总和最大。\n",
    "\n",
    "\n",
    "与0-1背包类似，dp[capcity]的值分为：\n",
    "\n",
    "- 不放入第k件物品，与0-1背包相同，dp[capcity]\n",
    "\n",
    "\n",
    "- 放入第k件物品，与0-1背包不同，dp[capcity]=dp[C-weights[k]]+values[k]\n",
    "选择两者较大值"
   ]
  },
  {
   "cell_type": "code",
   "execution_count": 7,
   "metadata": {},
   "outputs": [
    {
     "name": "stdout",
     "output_type": "stream",
     "text": [
      "289\n"
     ]
    }
   ],
   "source": [
    "def maxvalue(v, w, C):\n",
    "    dp = [0 for _ in range(C+1)]\n",
    "    for value, weight in zip(v, w):\n",
    "        for idx in range(weight, C+1):\n",
    "            dp[idx] = max(dp[idx], dp[idx-weight] + value)\n",
    "    return dp[-1]\n",
    "v = [12, 10, 20, 15, 14 ,13, 16, 11, 11, 12, 17, 19, 10]\n",
    "w = [2, 1, 3, 2, 4, 5, 3, 3, 2, 3, 1, 4, 2]\n",
    "print(maxvalue(v, w, 17))"
   ]
  },
  {
   "cell_type": "markdown",
   "metadata": {},
   "source": [
    "## 多重背包\n",
    "有N种物品和一个容量为C的背包。第i种物品最多有n[i]件，每件费用是w[i]，价值是v[i]。求解将哪些物品装入背包可使这些物品的费用总和不超过背包容量，且价值总和最大。\n",
    "\n",
    "\n",
    "- 如果mx*weight>=capcity，则与完全背包完全相同\n",
    "\n",
    "\n",
    "- 如果mx*weight<capcity，循环比较放0～mxs[k]件第k件物品的最大总价值，取其中最大值"
   ]
  },
  {
   "cell_type": "code",
   "execution_count": 10,
   "metadata": {},
   "outputs": [
    {
     "name": "stdout",
     "output_type": "stream",
     "text": [
      "71\n"
     ]
    }
   ],
   "source": [
    "def maxvalue(v, w, n, C):\n",
    "    dp = [0 for _ in range(C+1)]\n",
    "    for value, weight, num in zip(v, w, n):\n",
    "        for idx in range(weight, min(C, weight*num)+1):\n",
    "            dp[idx] = max(dp[idx], dp[idx - weight] + value)\n",
    "    return dp[-1]\n",
    "v = [10, 11, 20]\n",
    "w = [2, 1, 2]\n",
    "n = [2, 2, 5]\n",
    "print(maxvalue(v, w, n, 7))"
   ]
  },
  {
   "cell_type": "markdown",
   "metadata": {},
   "source": [
    "## 分组背包\n",
    "有 N 组物品和一个容量是 C 的背包，每组物品有若干个，同一组内的物品最多只能选一个。每件物品的体积是 $w_{ij}$，价值是 $v_{ij}$，其中 i 是组号，j 是组内编号。求解将哪些物品装入背包，可使物品总体积不超过背包容量，且总价值最大。\n",
    "\n",
    "\n",
    "使用dp[capcity]表示前group组在背包容量为capcity时最大总价值\n",
    "\n",
    "dp[capcity]的值为：\n",
    "\n",
    "- 前group-1组在背包容量为capcity时最大总价值\n",
    "\n",
    "\n",
    "- 前group-1组在背包容量为capcity-weight时最大总价值加value\n",
    "\n",
    "两者较大值"
   ]
  },
  {
   "cell_type": "code",
   "execution_count": 14,
   "metadata": {},
   "outputs": [
    {
     "name": "stdout",
     "output_type": "stream",
     "text": [
      "[0, 1, 3, 4, 6]\n"
     ]
    }
   ],
   "source": [
    "def maxvalue(v, w, C):\n",
    "    dp = [0 for _ in range(C+1)]\n",
    "    for values, weights in zip(v, w):\n",
    "        for idx in range(C, 0, -1):\n",
    "            for value, weight in zip(values, weights):\n",
    "                if idx >= weight:\n",
    "                    dp[idx] = max(dp[idx], dp[idx-weight]+value)\n",
    "    print(dp)\n",
    "v = [[2, 3], [3, 1]]\n",
    "w = [[2, 2], [2, 1]]\n",
    "maxvalue(v, w, 4)"
   ]
  },
  {
   "cell_type": "markdown",
   "metadata": {},
   "source": [
    "### 硬币兑换的组合数\n",
    "coins表示不同面额的硬币，amount表示总金额。请计算使用coins组成总金额为amount的不同组合数"
   ]
  },
  {
   "cell_type": "code",
   "execution_count": null,
   "metadata": {},
   "outputs": [],
   "source": [
    "# 外层循环使用coin是因为，使用金额作为外层循环，会导致在使用了更大金额的硬币后可能会再重复使用小硬币，从而导致有重复的组合。\n",
    "# 使用coin不会有重复组合的原因是，使用了更大金额的硬币后，小金额硬币数量相应减少，不会出现重复的组合。\n",
    "def func(amount, coins):\n",
    "    # dp[i]表示使用coins组成总金额为i的不同组合数\n",
    "    dp = [0 for _ in range(amount+1)]\n",
    "    dp[0] = 1\n",
    "    # 对硬币排序，并先使用小硬币兑换，再逐步使用金额大的硬币兑换\n",
    "    coins.sort()\n",
    "    for coin in coins:\n",
    "        for i in range(coin, amount+1):\n",
    "            # 在总金额为i-coin的基础上加一枚coin，可以组成总金额为i，所以总金额为i的组合数增加总金额为i-coins的组合数\n",
    "            dp[i] += dp[i-coin]\n",
    "    print(dp[-1])"
   ]
  }
 ],
 "metadata": {
  "kernelspec": {
   "display_name": "Python 3",
   "language": "python",
   "name": "python3"
  },
  "language_info": {
   "codemirror_mode": {
    "name": "ipython",
    "version": 3
   },
   "file_extension": ".py",
   "mimetype": "text/x-python",
   "name": "python",
   "nbconvert_exporter": "python",
   "pygments_lexer": "ipython3",
   "version": "3.8.8"
  },
  "toc": {
   "base_numbering": 1,
   "nav_menu": {},
   "number_sections": true,
   "sideBar": true,
   "skip_h1_title": false,
   "title_cell": "Table of Contents",
   "title_sidebar": "Contents",
   "toc_cell": false,
   "toc_position": {},
   "toc_section_display": true,
   "toc_window_display": false
  },
  "varInspector": {
   "cols": {
    "lenName": 16,
    "lenType": 16,
    "lenVar": 40
   },
   "kernels_config": {
    "python": {
     "delete_cmd_postfix": "",
     "delete_cmd_prefix": "del ",
     "library": "var_list.py",
     "varRefreshCmd": "print(var_dic_list())"
    },
    "r": {
     "delete_cmd_postfix": ") ",
     "delete_cmd_prefix": "rm(",
     "library": "var_list.r",
     "varRefreshCmd": "cat(var_dic_list()) "
    }
   },
   "types_to_exclude": [
    "module",
    "function",
    "builtin_function_or_method",
    "instance",
    "_Feature"
   ],
   "window_display": false
  }
 },
 "nbformat": 4,
 "nbformat_minor": 4
}
