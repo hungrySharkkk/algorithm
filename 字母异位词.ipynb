{
 "cells": [
  {
   "cell_type": "markdown",
   "id": "d8dc0679",
   "metadata": {},
   "source": [
    "有两种方法判断两个字符串是不是异位词\n",
    "- 将两个字符串都排序\n",
    "- 将两个字符串都表示成一个长度为26的数组array, 每个数表示 a~z 的个数"
   ]
  }
 ],
 "metadata": {
  "kernelspec": {
   "display_name": "Python 3",
   "language": "python",
   "name": "python3"
  },
  "language_info": {
   "codemirror_mode": {
    "name": "ipython",
    "version": 3
   },
   "file_extension": ".py",
   "mimetype": "text/x-python",
   "name": "python",
   "nbconvert_exporter": "python",
   "pygments_lexer": "ipython3",
   "version": "3.8.8"
  }
 },
 "nbformat": 4,
 "nbformat_minor": 5
}
